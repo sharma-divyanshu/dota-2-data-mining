{
 "cells": [
  {
   "cell_type": "code",
   "execution_count": 175,
   "id": "19802556",
   "metadata": {},
   "outputs": [],
   "source": [
    "#import packages\n",
    "\n",
    "import pandas as pd\n",
    "import numpy as np\n",
    "import matplotlib.pyplot as plt "
   ]
  },
  {
   "cell_type": "code",
   "execution_count": 176,
   "id": "5799d586",
   "metadata": {},
   "outputs": [],
   "source": [
    "# Import data from .csv file into dataframes\n",
    "\n",
    "ability_ids = pd.read_csv(\"ability_ids.csv\")\n",
    "ability_upgrades = pd.read_csv(\"ability_upgrades.csv\")\n",
    "chat = pd.read_csv(\"chat.csv\")\n",
    "cluster_regions = pd.read_csv(\"cluster_regions.csv\")\n",
    "hero_names = pd.read_csv(\"hero_names.csv\")\n",
    "item_ids = pd.read_csv(\"item_ids.csv\")\n",
    "match = pd.read_csv(\"match.csv\")\n",
    "objectives = pd.read_csv(\"objectives.csv\")\n",
    "patch_dates = pd.read_csv(\"patch_dates.csv\")\n",
    "player_ratings = pd.read_csv(\"player_ratings.csv\")\n",
    "player_time = pd.read_csv(\"player_time.csv\")\n",
    "players = pd.read_csv(\"players.csv\")\n",
    "purchase_log = pd.read_csv(\"purchase_log.csv\")\n",
    "teamfights = pd.read_csv(\"teamfights.csv\")\n",
    "teamfights_players = pd.read_csv(\"teamfights_players.csv\")\n",
    "test_labels = pd.read_csv(\"test_labels.csv\")\n",
    "test_player = pd.read_csv(\"test_player.csv\")"
   ]
  },
  {
   "cell_type": "code",
   "execution_count": 177,
   "id": "5fd8d4f2",
   "metadata": {},
   "outputs": [
    {
     "data": {
      "text/plain": [
       "count      688.000000\n",
       "mean      5413.681686\n",
       "std        649.786781\n",
       "min          0.000000\n",
       "25%       5175.750000\n",
       "50%       5353.500000\n",
       "75%       5527.250000\n",
       "max      10002.000000\n",
       "Name: ability_id, dtype: float64"
      ]
     },
     "execution_count": 177,
     "metadata": {},
     "output_type": "execute_result"
    }
   ],
   "source": [
    "# Exploratory analysis using summary stats + boxplots\n",
    "\n",
    "#ability ids dataset\n",
    "\n",
    "ability_ids[:5] \n",
    "\n",
    "ability_ids_feature_1 = ability_ids[\"ability_id\"]\n",
    "ability_ids_feature_2 = ability_ids[\"ability_name\"]\n",
    "\n",
    "ability_ids_feature_1.describe()"
   ]
  },
  {
   "cell_type": "code",
   "execution_count": 234,
   "id": "977766b4",
   "metadata": {},
   "outputs": [
    {
     "data": {
      "image/png": "[encoded data removed]",
      "text/plain": [
       "<Figure size 432x288 with 1 Axes>"
      ]
     },
     "metadata": {
      "needs_background": "light"
     },
     "output_type": "display_data"
    }
   ],
   "source": [
    "y = list(ability_ids.ability_id)\n",
    "plt.boxplot(y)\n",
    "plt.show()"
   ]
  },
  {
   "cell_type": "code",
   "execution_count": 169,
   "id": "08b07b5e",
   "metadata": {},
   "outputs": [
    {
     "data": {
      "text/plain": [
       "count              688\n",
       "unique             688\n",
       "top       ability_base\n",
       "freq                 1\n",
       "Name: ability_name, dtype: object"
      ]
     },
     "execution_count": 169,
     "metadata": {},
     "output_type": "execute_result"
    }
   ],
   "source": [
    "ability_ids_feature_2.describe()"
   ]
  },
  {
   "cell_type": "code",
   "execution_count": 170,
   "id": "e410d86f",
   "metadata": {},
   "outputs": [
    {
     "data": {
      "text/plain": [
       "count    8.939599e+06\n",
       "mean     5.204870e+03\n",
       "std      1.949415e+02\n",
       "min      5.002000e+03\n",
       "25%      5.025000e+03\n",
       "50%      5.136000e+03\n",
       "75%      5.361000e+03\n",
       "max      5.654000e+03\n",
       "Name: ability, dtype: float64"
      ]
     },
     "execution_count": 170,
     "metadata": {},
     "output_type": "execute_result"
    }
   ],
   "source": [
    "# ability_upgrades dataset\n",
    "\n",
    "ability_upgrades[:5] \n",
    "\n",
    "ability_upgrades_feature_1 = ability_upgrades[\"ability\"]\n",
    "ability_upgrades_feature_2 = ability_upgrades[\"level\"]\n",
    "ability_upgrades_feature_3 = ability_upgrades[\"time\"]\n",
    "ability_upgrades_feature_4 = ability_upgrades[\"player_slot\"]\n",
    "ability_upgrades_feature_5 = ability_upgrades[\"match_id\"]\n",
    "\n",
    "ability_upgrades_feature_1.describe()"
   ]
  },
  {
   "cell_type": "code",
   "execution_count": 236,
   "id": "2bfaefe9",
   "metadata": {},
   "outputs": [
    {
     "data": {
      "image/png": "[encoded data removed]",
      "text/plain": [
       "<Figure size 432x288 with 1 Axes>"
      ]
     },
     "metadata": {
      "needs_background": "light"
     },
     "output_type": "display_data"
    }
   ],
   "source": [
    "y = list(ability_upgrades.ability)\n",
    "plt.boxplot(y)\n",
    "plt.show()"
   ]
  },
  {
   "cell_type": "code",
   "execution_count": 171,
   "id": "cf2c32cf",
   "metadata": {},
   "outputs": [
    {
     "data": {
      "text/plain": [
       "count    8.939599e+06\n",
       "mean     9.974747e+00\n",
       "std      5.963747e+00\n",
       "min      1.000000e+00\n",
       "25%      5.000000e+00\n",
       "50%      9.000000e+00\n",
       "75%      1.400000e+01\n",
       "max      2.500000e+01\n",
       "Name: level, dtype: float64"
      ]
     },
     "execution_count": 171,
     "metadata": {},
     "output_type": "execute_result"
    }
   ],
   "source": [
    "ability_upgrades_feature_2.describe()"
   ]
  },
  {
   "cell_type": "code",
   "execution_count": 237,
   "id": "06dff7d8",
   "metadata": {},
   "outputs": [
    {
     "data": {
      "image/png": "[encoded data removed]",
      "text/plain": [
       "<Figure size 432x288 with 1 Axes>"
      ]
     },
     "metadata": {
      "needs_background": "light"
     },
     "output_type": "display_data"
    }
   ],
   "source": [
    "y = list(ability_upgrades.level)\n",
    "plt.boxplot(y)\n",
    "plt.show()"
   ]
  },
  {
   "cell_type": "code",
   "execution_count": 172,
   "id": "45040c8a",
   "metadata": {},
   "outputs": [
    {
     "data": {
      "text/plain": [
       "count    8.939599e+06\n",
       "mean     1.495252e+03\n",
       "std      8.401830e+02\n",
       "min      1.240000e+02\n",
       "25%      7.610000e+02\n",
       "50%      1.368000e+03\n",
       "75%      2.103000e+03\n",
       "max      7.063000e+03\n",
       "Name: time, dtype: float64"
      ]
     },
     "execution_count": 172,
     "metadata": {},
     "output_type": "execute_result"
    }
   ],
   "source": [
    "ability_upgrades_feature_3.describe()"
   ]
  },
  {
   "cell_type": "code",
   "execution_count": 238,
   "id": "3bc9cc9b",
   "metadata": {},
   "outputs": [
    {
     "data": {
      "image/png": "[encoded data removed]",
      "text/plain": [
       "<Figure size 432x288 with 1 Axes>"
      ]
     },
     "metadata": {
      "needs_background": "light"
     },
     "output_type": "display_data"
    }
   ],
   "source": [
    "y = list(ability_upgrades.time)\n",
    "plt.boxplot(y)\n",
    "plt.show()"
   ]
  },
  {
   "cell_type": "code",
   "execution_count": 173,
   "id": "baa845af",
   "metadata": {},
   "outputs": [
    {
     "data": {
      "text/plain": [
       "count    8.939599e+06\n",
       "mean     6.594974e+01\n",
       "std      6.401578e+01\n",
       "min      0.000000e+00\n",
       "25%      2.000000e+00\n",
       "50%      4.000000e+00\n",
       "75%      1.300000e+02\n",
       "max      1.320000e+02\n",
       "Name: player_slot, dtype: float64"
      ]
     },
     "execution_count": 173,
     "metadata": {},
     "output_type": "execute_result"
    }
   ],
   "source": [
    "ability_upgrades_feature_4.describe()"
   ]
  },
  {
   "cell_type": "code",
   "execution_count": 239,
   "id": "64921641",
   "metadata": {},
   "outputs": [
    {
     "data": {
      "image/png": "[encoded data removed]",
      "text/plain": [
       "<Figure size 432x288 with 1 Axes>"
      ]
     },
     "metadata": {
      "needs_background": "light"
     },
     "output_type": "display_data"
    }
   ],
   "source": [
    "y = list(ability_upgrades.player_slot)\n",
    "plt.boxplot(y)\n",
    "plt.show()"
   ]
  },
  {
   "cell_type": "code",
   "execution_count": 103,
   "id": "a55a4b6b",
   "metadata": {},
   "outputs": [
    {
     "data": {
      "text/plain": [
       "count    8.939599e+06\n",
       "mean     2.500666e+04\n",
       "std      1.442761e+04\n",
       "min      0.000000e+00\n",
       "25%      1.253000e+04\n",
       "50%      2.502100e+04\n",
       "75%      3.749400e+04\n",
       "max      4.999900e+04\n",
       "Name: match_id, dtype: float64"
      ]
     },
     "execution_count": 103,
     "metadata": {},
     "output_type": "execute_result"
    }
   ],
   "source": [
    "ability_upgrades_feature_5.describe()"
   ]
  },
  {
   "cell_type": "code",
   "execution_count": 240,
   "id": "07647f0a",
   "metadata": {},
   "outputs": [
    {
     "data": {
      "image/png": "[encoded data removed]",
      "text/plain": [
       "<Figure size 432x288 with 1 Axes>"
      ]
     },
     "metadata": {
      "needs_background": "light"
     },
     "output_type": "display_data"
    }
   ],
   "source": [
    "y = list(ability_upgrades.match_id)\n",
    "plt.boxplot(y)\n",
    "plt.show()"
   ]
  },
  {
   "cell_type": "code",
   "execution_count": 104,
   "id": "989c931f",
   "metadata": {},
   "outputs": [
    {
     "data": {
      "text/plain": [
       "count    1.439488e+06\n",
       "mean     2.495673e+04\n",
       "std      1.457124e+04\n",
       "min      0.000000e+00\n",
       "25%      1.227900e+04\n",
       "50%      2.483900e+04\n",
       "75%      3.767800e+04\n",
       "max      4.999900e+04\n",
       "Name: match_id, dtype: float64"
      ]
     },
     "execution_count": 104,
     "metadata": {},
     "output_type": "execute_result"
    }
   ],
   "source": [
    "# chat dataset\n",
    "\n",
    "chat[:5] \n",
    "\n",
    "chat_feature_1 = chat[\"match_id\"]\n",
    "chat_feature_2 = chat[\"key\"]\n",
    "chat_feature_3 = chat[\"slot\"]\n",
    "chat_feature_4 = chat[\"time\"]\n",
    "chat_feature_5 = chat[\"unit\"]\n",
    "\n",
    "chat_feature_1.describe()"
   ]
  },
  {
   "cell_type": "code",
   "execution_count": 241,
   "id": "1f9dd92d",
   "metadata": {},
   "outputs": [
    {
     "data": {
      "image/png": "[encoded data removed]",
      "text/plain": [
       "<Figure size 432x288 with 1 Axes>"
      ]
     },
     "metadata": {
      "needs_background": "light"
     },
     "output_type": "display_data"
    }
   ],
   "source": [
    "y = list(chat.match_id)\n",
    "plt.boxplot(y)\n",
    "plt.show()"
   ]
  },
  {
   "cell_type": "code",
   "execution_count": 105,
   "id": "8b48532f",
   "metadata": {},
   "outputs": [
    {
     "data": {
      "text/plain": [
       "count     1439474\n",
       "unique     690814\n",
       "top            gg\n",
       "freq        65412\n",
       "Name: key, dtype: object"
      ]
     },
     "execution_count": 105,
     "metadata": {},
     "output_type": "execute_result"
    }
   ],
   "source": [
    "chat_feature_2.describe()"
   ]
  },
  {
   "cell_type": "code",
   "execution_count": 106,
   "id": "dd3e49c6",
   "metadata": {},
   "outputs": [
    {
     "data": {
      "text/plain": [
       "count    1.439488e+06\n",
       "mean     4.493948e+00\n",
       "std      2.877044e+00\n",
       "min     -9.000000e+00\n",
       "25%      2.000000e+00\n",
       "50%      5.000000e+00\n",
       "75%      7.000000e+00\n",
       "max      9.000000e+00\n",
       "Name: slot, dtype: float64"
      ]
     },
     "execution_count": 106,
     "metadata": {},
     "output_type": "execute_result"
    }
   ],
   "source": [
    "chat_feature_3.describe()"
   ]
  },
  {
   "cell_type": "code",
   "execution_count": 244,
   "id": "07c15afe",
   "metadata": {},
   "outputs": [
    {
     "data": {
      "image/png": "[encoded data removed]",
      "text/plain": [
       "<Figure size 432x288 with 1 Axes>"
      ]
     },
     "metadata": {
      "needs_background": "light"
     },
     "output_type": "display_data"
    }
   ],
   "source": [
    "y = list(chat.slot)\n",
    "plt.boxplot(y)\n",
    "plt.show()"
   ]
  },
  {
   "cell_type": "code",
   "execution_count": 107,
   "id": "d37e3340",
   "metadata": {},
   "outputs": [
    {
     "data": {
      "text/plain": [
       "count    1.439488e+06\n",
       "mean     1.708153e+03\n",
       "std      9.868280e+02\n",
       "min     -9.070000e+02\n",
       "25%      1.020000e+03\n",
       "50%      1.776000e+03\n",
       "75%      2.386000e+03\n",
       "max      1.605700e+04\n",
       "Name: time, dtype: float64"
      ]
     },
     "execution_count": 107,
     "metadata": {},
     "output_type": "execute_result"
    }
   ],
   "source": [
    "chat_feature_4.describe()"
   ]
  },
  {
   "cell_type": "code",
   "execution_count": null,
   "id": "ebdbc7a8",
   "metadata": {},
   "outputs": [],
   "source": [
    "y = list(chat.slot)\n",
    "plt.boxplot(y)\n",
    "plt.show()"
   ]
  },
  {
   "cell_type": "code",
   "execution_count": 108,
   "id": "b592d4aa",
   "metadata": {},
   "outputs": [
    {
     "data": {
      "text/plain": [
       "count       1439446\n",
       "unique       177991\n",
       "top       Deez_Nuts\n",
       "freq           1507\n",
       "Name: unit, dtype: object"
      ]
     },
     "execution_count": 108,
     "metadata": {},
     "output_type": "execute_result"
    }
   ],
   "source": [
    "chat_feature_5.describe()"
   ]
  },
  {
   "cell_type": "code",
   "execution_count": null,
   "id": "d25b77e3",
   "metadata": {},
   "outputs": [],
   "source": [
    "y = list(chat.slot)\n",
    "plt.boxplot(y)\n",
    "plt.show()"
   ]
  },
  {
   "cell_type": "code",
   "execution_count": 109,
   "id": "a8b59e17",
   "metadata": {},
   "outputs": [
    {
     "data": {
      "text/plain": [
       "count     53.000000\n",
       "mean     174.867925\n",
       "std       40.967641\n",
       "min      111.000000\n",
       "25%      137.000000\n",
       "50%      181.000000\n",
       "75%      204.000000\n",
       "max      261.000000\n",
       "Name: cluster, dtype: float64"
      ]
     },
     "execution_count": 109,
     "metadata": {},
     "output_type": "execute_result"
    }
   ],
   "source": [
    "# cluster_regions dataset\n",
    "\n",
    "cluster_regions[:5] \n",
    "\n",
    "cluster_regions_feature_1 = cluster_regions[\"cluster\"]\n",
    "cluster_regions_feature_2 = cluster_regions[\"region\"]\n",
    "\n",
    "cluster_regions_feature_1.describe()"
   ]
  },
  {
   "cell_type": "code",
   "execution_count": 110,
   "id": "f6e7bdd5",
   "metadata": {},
   "outputs": [
    {
     "data": {
      "text/plain": [
       "count            53\n",
       "unique           20\n",
       "top       STOCKHOLM\n",
       "freq              8\n",
       "Name: region, dtype: object"
      ]
     },
     "execution_count": 110,
     "metadata": {},
     "output_type": "execute_result"
    }
   ],
   "source": [
    "cluster_regions_feature_2.describe()"
   ]
  },
  {
   "cell_type": "code",
   "execution_count": 111,
   "id": "420eecdc",
   "metadata": {},
   "outputs": [
    {
     "data": {
      "text/plain": [
       "count                        112\n",
       "unique                       112\n",
       "top       npc_dota_hero_antimage\n",
       "freq                           1\n",
       "Name: name, dtype: object"
      ]
     },
     "execution_count": 111,
     "metadata": {},
     "output_type": "execute_result"
    }
   ],
   "source": [
    "# hero_names dataset\n",
    "\n",
    "hero_names[:5]\n",
    "\n",
    "hero_names_feature_1 = hero_names[\"name\"]\n",
    "hero_names_feature_2 = hero_names[\"hero_id\"]\n",
    "hero_names_feature_3 = hero_names[\"localized_name\"]\n",
    "\n",
    "hero_names_feature_1.describe()"
   ]
  },
  {
   "cell_type": "code",
   "execution_count": 112,
   "id": "6d62ba8b",
   "metadata": {},
   "outputs": [
    {
     "data": {
      "text/plain": [
       "count    112.000000\n",
       "mean      57.294643\n",
       "std       32.760842\n",
       "min        1.000000\n",
       "25%       29.750000\n",
       "50%       57.500000\n",
       "75%       85.250000\n",
       "max      113.000000\n",
       "Name: hero_id, dtype: float64"
      ]
     },
     "execution_count": 112,
     "metadata": {},
     "output_type": "execute_result"
    }
   ],
   "source": [
    "hero_names_feature_2.describe()"
   ]
  },
  {
   "cell_type": "code",
   "execution_count": 113,
   "id": "13ed1faf",
   "metadata": {},
   "outputs": [
    {
     "data": {
      "text/plain": [
       "count           112\n",
       "unique          112\n",
       "top       Anti-Mage\n",
       "freq              1\n",
       "Name: localized_name, dtype: object"
      ]
     },
     "execution_count": 113,
     "metadata": {},
     "output_type": "execute_result"
    }
   ],
   "source": [
    "hero_names_feature_3.describe()"
   ]
  },
  {
   "cell_type": "code",
   "execution_count": 114,
   "id": "79a673ac",
   "metadata": {},
   "outputs": [
    {
     "data": {
      "text/plain": [
       "count     189.000000\n",
       "mean      248.772487\n",
       "std       328.210908\n",
       "min         1.000000\n",
       "25%        51.000000\n",
       "50%       135.000000\n",
       "75%       229.000000\n",
       "max      1027.000000\n",
       "Name: item_id, dtype: float64"
      ]
     },
     "execution_count": 114,
     "metadata": {},
     "output_type": "execute_result"
    }
   ],
   "source": [
    "# item_ids dataset\n",
    "\n",
    "item_ids[:5]\n",
    "\n",
    "item_ids_feature_1 = item_ids[\"item_id\"]\n",
    "item_ids_feature_2 = item_ids[\"item_name\"]\n",
    "\n",
    "item_ids_feature_1.describe()"
   ]
  },
  {
   "cell_type": "code",
   "execution_count": 115,
   "id": "6d6740a4",
   "metadata": {},
   "outputs": [
    {
     "data": {
      "text/plain": [
       "count       189\n",
       "unique      189\n",
       "top       blink\n",
       "freq          1\n",
       "Name: item_name, dtype: object"
      ]
     },
     "execution_count": 115,
     "metadata": {},
     "output_type": "execute_result"
    }
   ],
   "source": [
    "item_ids_feature_2.describe()"
   ]
  },
  {
   "cell_type": "code",
   "execution_count": 116,
   "id": "88578dec",
   "metadata": {},
   "outputs": [
    {
     "data": {
      "text/plain": [
       "count    50000.000000\n",
       "mean     24999.500000\n",
       "std      14433.901067\n",
       "min          0.000000\n",
       "25%      12499.750000\n",
       "50%      24999.500000\n",
       "75%      37499.250000\n",
       "max      49999.000000\n",
       "Name: match_id, dtype: float64"
      ]
     },
     "execution_count": 116,
     "metadata": {},
     "output_type": "execute_result"
    }
   ],
   "source": [
    "# match\n",
    "\n",
    "match[:5] \n",
    "\n",
    "match_feature_1 = match[\"match_id\"]\n",
    "match_feature_2 = match[\"start_time\"]\n",
    "match_feature_3 = match[\"duration\"]\n",
    "match_feature_4 = match[\"tower_status_radiant\"]\n",
    "match_feature_5 = match[\"tower_status_dire\"]\n",
    "match_feature_6 = match[\"barracks_status_dire\"]\n",
    "match_feature_7 = match[\"barracks_status_radiant\"]\n",
    "match_feature_8 = match[\"first_blood_time\"]\n",
    "match_feature_9 = match[\"game_mode\"]\n",
    "match_feature_10 = match[\"radiant_win\"]\n",
    "match_feature_11 = match[\"negative_votes\"]\n",
    "match_feature_12 = match[\"positive_votes\"]\n",
    "match_feature_13 = match[\"cluster\"]\n",
    "\n",
    "match_feature_1.describe()"
   ]
  },
  {
   "cell_type": "code",
   "execution_count": 117,
   "id": "2947635f",
   "metadata": {},
   "outputs": [
    {
     "data": {
      "text/plain": [
       "count    5.000000e+04\n",
       "mean     1.447573e+09\n",
       "std      1.485270e+05\n",
       "min      1.446750e+09\n",
       "25%      1.447456e+09\n",
       "50%      1.447577e+09\n",
       "75%      1.447700e+09\n",
       "max      1.447829e+09\n",
       "Name: start_time, dtype: float64"
      ]
     },
     "execution_count": 117,
     "metadata": {},
     "output_type": "execute_result"
    }
   ],
   "source": [
    "match_feature_2.describe()"
   ]
  },
  {
   "cell_type": "code",
   "execution_count": 247,
   "id": "b843a0cd",
   "metadata": {},
   "outputs": [
    {
     "data": {
      "image/png": "[encoded data removed]",
      "text/plain": [
       "<Figure size 432x288 with 1 Axes>"
      ]
     },
     "metadata": {
      "needs_background": "light"
     },
     "output_type": "display_data"
    }
   ],
   "source": [
    "y = list(match.start_time)\n",
    "plt.boxplot(y)\n",
    "plt.show()"
   ]
  },
  {
   "cell_type": "code",
   "execution_count": 118,
   "id": "8af984d8",
   "metadata": {},
   "outputs": [
    {
     "data": {
      "text/plain": [
       "count    50000.000000\n",
       "mean      2476.453500\n",
       "std        634.631261\n",
       "min         59.000000\n",
       "25%       2029.000000\n",
       "50%       2415.000000\n",
       "75%       2872.000000\n",
       "max      16037.000000\n",
       "Name: duration, dtype: float64"
      ]
     },
     "execution_count": 118,
     "metadata": {},
     "output_type": "execute_result"
    }
   ],
   "source": [
    "match_feature_3.describe()"
   ]
  },
  {
   "cell_type": "code",
   "execution_count": 248,
   "id": "67fa3a76",
   "metadata": {},
   "outputs": [
    {
     "data": {
      "image/png": "[encoded data removed]",
      "text/plain": [
       "<Figure size 432x288 with 1 Axes>"
      ]
     },
     "metadata": {
      "needs_background": "light"
     },
     "output_type": "display_data"
    }
   ],
   "source": [
    "y = list(match.duration)\n",
    "plt.boxplot(y)\n",
    "plt.show()"
   ]
  },
  {
   "cell_type": "code",
   "execution_count": 119,
   "id": "937e6192",
   "metadata": {},
   "outputs": [
    {
     "data": {
      "text/plain": [
       "count    50000.000000\n",
       "mean      1000.016440\n",
       "std        948.211846\n",
       "min          0.000000\n",
       "25%          0.000000\n",
       "50%       1536.000000\n",
       "75%       1974.000000\n",
       "max       2047.000000\n",
       "Name: tower_status_radiant, dtype: float64"
      ]
     },
     "execution_count": 119,
     "metadata": {},
     "output_type": "execute_result"
    }
   ],
   "source": [
    "match_feature_4.describe()"
   ]
  },
  {
   "cell_type": "code",
   "execution_count": 249,
   "id": "a6ff4c3b",
   "metadata": {},
   "outputs": [
    {
     "data": {
      "image/png": "[encoded data removed]",
      "text/plain": [
       "<Figure size 432x288 with 1 Axes>"
      ]
     },
     "metadata": {
      "needs_background": "light"
     },
     "output_type": "display_data"
    }
   ],
   "source": [
    "y = list(match.tower_status_radiant)\n",
    "plt.boxplot(y)\n",
    "plt.show()"
   ]
  },
  {
   "cell_type": "code",
   "execution_count": 120,
   "id": "51bb7abe",
   "metadata": {},
   "outputs": [
    {
     "data": {
      "text/plain": [
       "count    50000.000000\n",
       "mean       935.250060\n",
       "std        937.974714\n",
       "min          0.000000\n",
       "25%          0.000000\n",
       "50%        384.000000\n",
       "75%       1972.000000\n",
       "max       2047.000000\n",
       "Name: tower_status_dire, dtype: float64"
      ]
     },
     "execution_count": 120,
     "metadata": {},
     "output_type": "execute_result"
    }
   ],
   "source": [
    "match_feature_5.describe()"
   ]
  },
  {
   "cell_type": "code",
   "execution_count": 250,
   "id": "09386dde",
   "metadata": {},
   "outputs": [
    {
     "data": {
      "image/png": "[encoded data removed]",
      "text/plain": [
       "<Figure size 432x288 with 1 Axes>"
      ]
     },
     "metadata": {
      "needs_background": "light"
     },
     "output_type": "display_data"
    }
   ],
   "source": [
    "y = list(match.tower_status_dire)\n",
    "plt.boxplot(y)\n",
    "plt.show()"
   ]
  },
  {
   "cell_type": "code",
   "execution_count": 121,
   "id": "c380a6c9",
   "metadata": {},
   "outputs": [
    {
     "data": {
      "text/plain": [
       "count    50000.000000\n",
       "mean        34.529460\n",
       "std         29.209672\n",
       "min          0.000000\n",
       "25%          0.000000\n",
       "50%         51.000000\n",
       "75%         63.000000\n",
       "max         63.000000\n",
       "Name: barracks_status_dire, dtype: float64"
      ]
     },
     "execution_count": 121,
     "metadata": {},
     "output_type": "execute_result"
    }
   ],
   "source": [
    "match_feature_6.describe()"
   ]
  },
  {
   "cell_type": "code",
   "execution_count": 251,
   "id": "128aa0d9",
   "metadata": {},
   "outputs": [
    {
     "data": {
      "image/png": "[encoded data removed]",
      "text/plain": [
       "<Figure size 432x288 with 1 Axes>"
      ]
     },
     "metadata": {
      "needs_background": "light"
     },
     "output_type": "display_data"
    }
   ],
   "source": [
    "y = list(match.barracks_status_dire)\n",
    "plt.boxplot(y)\n",
    "plt.show()"
   ]
  },
  {
   "cell_type": "code",
   "execution_count": 122,
   "id": "924137fd",
   "metadata": {},
   "outputs": [
    {
     "data": {
      "text/plain": [
       "count    50000.00000\n",
       "mean        34.77526\n",
       "std         29.73214\n",
       "min          0.00000\n",
       "25%          0.00000\n",
       "50%         51.00000\n",
       "75%         63.00000\n",
       "max         63.00000\n",
       "Name: barracks_status_radiant, dtype: float64"
      ]
     },
     "execution_count": 122,
     "metadata": {},
     "output_type": "execute_result"
    }
   ],
   "source": [
    "match_feature_7.describe()"
   ]
  },
  {
   "cell_type": "code",
   "execution_count": 252,
   "id": "b83c6465",
   "metadata": {},
   "outputs": [
    {
     "data": {
      "image/png": "[encoded data removed]",
      "text/plain": [
       "<Figure size 432x288 with 1 Axes>"
      ]
     },
     "metadata": {
      "needs_background": "light"
     },
     "output_type": "display_data"
    }
   ],
   "source": [
    "y = list(match.barracks_status_radiant)\n",
    "plt.boxplot(y)\n",
    "plt.show()"
   ]
  },
  {
   "cell_type": "code",
   "execution_count": 123,
   "id": "04cdae1b",
   "metadata": {},
   "outputs": [
    {
     "data": {
      "text/plain": [
       "count    50000.000000\n",
       "mean        93.825520\n",
       "std         92.648332\n",
       "min          0.000000\n",
       "25%          9.000000\n",
       "50%         77.000000\n",
       "75%        144.000000\n",
       "max        831.000000\n",
       "Name: first_blood_time, dtype: float64"
      ]
     },
     "execution_count": 123,
     "metadata": {},
     "output_type": "execute_result"
    }
   ],
   "source": [
    "match_feature_8.describe()"
   ]
  },
  {
   "cell_type": "code",
   "execution_count": null,
   "id": "9dcbf0b1",
   "metadata": {},
   "outputs": [],
   "source": [
    "y = list(match.first_blood_time)\n",
    "plt.boxplot(y)\n",
    "plt.show()"
   ]
  },
  {
   "cell_type": "code",
   "execution_count": 124,
   "id": "6701fa0a",
   "metadata": {},
   "outputs": [
    {
     "data": {
      "text/plain": [
       "count    50000.000000\n",
       "mean        21.468000\n",
       "std          3.218258\n",
       "min          2.000000\n",
       "25%         22.000000\n",
       "50%         22.000000\n",
       "75%         22.000000\n",
       "max         22.000000\n",
       "Name: game_mode, dtype: float64"
      ]
     },
     "execution_count": 124,
     "metadata": {},
     "output_type": "execute_result"
    }
   ],
   "source": [
    "match_feature_9.describe()"
   ]
  },
  {
   "cell_type": "code",
   "execution_count": 125,
   "id": "127e9f7e",
   "metadata": {},
   "outputs": [
    {
     "data": {
      "text/plain": [
       "count     50000\n",
       "unique        2\n",
       "top        True\n",
       "freq      25943\n",
       "Name: radiant_win, dtype: object"
      ]
     },
     "execution_count": 125,
     "metadata": {},
     "output_type": "execute_result"
    }
   ],
   "source": [
    "match_feature_10.describe()"
   ]
  },
  {
   "cell_type": "code",
   "execution_count": 126,
   "id": "c22ad64a",
   "metadata": {},
   "outputs": [
    {
     "data": {
      "text/plain": [
       "count    50000.000000\n",
       "mean         0.015480\n",
       "std          0.364696\n",
       "min          0.000000\n",
       "25%          0.000000\n",
       "50%          0.000000\n",
       "75%          0.000000\n",
       "max         47.000000\n",
       "Name: negative_votes, dtype: float64"
      ]
     },
     "execution_count": 126,
     "metadata": {},
     "output_type": "execute_result"
    }
   ],
   "source": [
    "match_feature_11.describe()"
   ]
  },
  {
   "cell_type": "code",
   "execution_count": 255,
   "id": "c46ad110",
   "metadata": {},
   "outputs": [
    {
     "data": {
      "image/png": "[encoded data removed]",
      "text/plain": [
       "<Figure size 432x288 with 1 Axes>"
      ]
     },
     "metadata": {
      "needs_background": "light"
     },
     "output_type": "display_data"
    }
   ],
   "source": [
    "y = list(match.negative_votes)\n",
    "plt.boxplot(y)\n",
    "plt.show()"
   ]
  },
  {
   "cell_type": "code",
   "execution_count": 127,
   "id": "c22cbd5d",
   "metadata": {},
   "outputs": [
    {
     "data": {
      "text/plain": [
       "count    50000.000000\n",
       "mean         0.036820\n",
       "std          0.871068\n",
       "min          0.000000\n",
       "25%          0.000000\n",
       "50%          0.000000\n",
       "75%          0.000000\n",
       "max         80.000000\n",
       "Name: positive_votes, dtype: float64"
      ]
     },
     "execution_count": 127,
     "metadata": {},
     "output_type": "execute_result"
    }
   ],
   "source": [
    "match_feature_12.describe()"
   ]
  },
  {
   "cell_type": "code",
   "execution_count": 256,
   "id": "1d5844e4",
   "metadata": {},
   "outputs": [
    {
     "data": {
      "image/png": "[encoded data removed]",
      "text/plain": [
       "<Figure size 432x288 with 1 Axes>"
      ]
     },
     "metadata": {
      "needs_background": "light"
     },
     "output_type": "display_data"
    }
   ],
   "source": [
    "y = list(match.positive_votes)\n",
    "plt.boxplot(y)\n",
    "plt.show()"
   ]
  },
  {
   "cell_type": "code",
   "execution_count": 128,
   "id": "f931c8d5",
   "metadata": {},
   "outputs": [
    {
     "data": {
      "text/plain": [
       "count    50000.000000\n",
       "mean       142.304720\n",
       "std         25.156608\n",
       "min        111.000000\n",
       "25%        123.000000\n",
       "50%        133.000000\n",
       "75%        154.000000\n",
       "max        242.000000\n",
       "Name: cluster, dtype: float64"
      ]
     },
     "execution_count": 128,
     "metadata": {},
     "output_type": "execute_result"
    }
   ],
   "source": [
    "match_feature_13.describe()"
   ]
  },
  {
   "cell_type": "code",
   "execution_count": 257,
   "id": "be697e7f",
   "metadata": {},
   "outputs": [
    {
     "data": {
      "image/png": "[encoded data removed]",
      "text/plain": [
       "<Figure size 432x288 with 1 Axes>"
      ]
     },
     "metadata": {
      "needs_background": "light"
     },
     "output_type": "display_data"
    }
   ],
   "source": [
    "y = list(match.cluster)\n",
    "plt.boxplot(y)\n",
    "plt.show()"
   ]
  },
  {
   "cell_type": "code",
   "execution_count": 129,
   "id": "68ff846e",
   "metadata": {},
   "outputs": [
    {
     "data": {
      "text/plain": [
       "count    1.173396e+06\n",
       "mean     2.502495e+04\n",
       "std      1.443535e+04\n",
       "min      0.000000e+00\n",
       "25%      1.253500e+04\n",
       "50%      2.505100e+04\n",
       "75%      3.752100e+04\n",
       "max      4.999900e+04\n",
       "Name: match_id, dtype: float64"
      ]
     },
     "execution_count": 129,
     "metadata": {},
     "output_type": "execute_result"
    }
   ],
   "source": [
    "# objectives dataset\n",
    "\n",
    "objectives[:5]\n",
    "\n",
    "objectives_feature_1 = objectives[\"match_id\"]\n",
    "objectives_feature_2 = objectives[\"key\"]\n",
    "objectives_feature_3 = objectives[\"player1\"]\n",
    "objectives_feature_4 = objectives[\"player2\"]\n",
    "objectives_feature_5 = objectives[\"slot\"]\n",
    "objectives_feature_6 = objectives[\"subtype\"]\n",
    "objectives_feature_7 = objectives[\"team\"]\n",
    "objectives_feature_8 = objectives[\"time\"]\n",
    "objectives_feature_9 = objectives[\"value\"]\n",
    "\n",
    "objectives_feature_1.describe()"
   ]
  },
  {
   "cell_type": "code",
   "execution_count": 130,
   "id": "46ecc35f",
   "metadata": {},
   "outputs": [
    {
     "data": {
      "text/plain": [
       "count    269576.000000\n",
       "mean        309.734769\n",
       "std         552.679820\n",
       "min           1.000000\n",
       "25%           4.000000\n",
       "50%          32.000000\n",
       "75%         256.000000\n",
       "max        2048.000000\n",
       "Name: key, dtype: float64"
      ]
     },
     "execution_count": 130,
     "metadata": {},
     "output_type": "execute_result"
    }
   ],
   "source": [
    "objectives_feature_2.describe()"
   ]
  },
  {
   "cell_type": "code",
   "execution_count": 131,
   "id": "39614578",
   "metadata": {},
   "outputs": [
    {
     "data": {
      "text/plain": [
       "count    1.173396e+06\n",
       "mean     2.236327e+00\n",
       "std      3.376540e+00\n",
       "min     -1.000000e+00\n",
       "25%     -1.000000e+00\n",
       "50%      2.000000e+00\n",
       "75%      5.000000e+00\n",
       "max      9.000000e+00\n",
       "Name: player1, dtype: float64"
      ]
     },
     "execution_count": 131,
     "metadata": {},
     "output_type": "execute_result"
    }
   ],
   "source": [
    "objectives_feature_3.describe()"
   ]
  },
  {
   "cell_type": "code",
   "execution_count": 258,
   "id": "7ad0c366",
   "metadata": {},
   "outputs": [
    {
     "data": {
      "image/png": "[encoded data removed]",
      "text/plain": [
       "<Figure size 432x288 with 1 Axes>"
      ]
     },
     "metadata": {
      "needs_background": "light"
     },
     "output_type": "display_data"
    }
   ],
   "source": [
    "y = list(objectives.player1)\n",
    "plt.boxplot(y)\n",
    "plt.show()"
   ]
  },
  {
   "cell_type": "code",
   "execution_count": 132,
   "id": "3c343792",
   "metadata": {},
   "outputs": [
    {
     "data": {
      "text/plain": [
       "count    1.173396e+06\n",
       "mean    -7.733783e-01\n",
       "std      1.237207e+00\n",
       "min     -1.000000e+00\n",
       "25%     -1.000000e+00\n",
       "50%     -1.000000e+00\n",
       "75%     -1.000000e+00\n",
       "max      9.000000e+00\n",
       "Name: player2, dtype: float64"
      ]
     },
     "execution_count": 132,
     "metadata": {},
     "output_type": "execute_result"
    }
   ],
   "source": [
    "objectives_feature_4.describe()"
   ]
  },
  {
   "cell_type": "code",
   "execution_count": 259,
   "id": "16002604",
   "metadata": {},
   "outputs": [
    {
     "data": {
      "image/png": "[encoded data removed]",
      "text/plain": [
       "<Figure size 432x288 with 1 Axes>"
      ]
     },
     "metadata": {
      "needs_background": "light"
     },
     "output_type": "display_data"
    }
   ],
   "source": [
    "y = list(objectives.player2)\n",
    "plt.boxplot(y)\n",
    "plt.show()"
   ]
  },
  {
   "cell_type": "code",
   "execution_count": 133,
   "id": "a0a67e23",
   "metadata": {},
   "outputs": [
    {
     "data": {
      "text/plain": [
       "count    826853.000000\n",
       "mean          3.257962\n",
       "std           3.418533\n",
       "min          -1.000000\n",
       "25%           0.000000\n",
       "50%           3.000000\n",
       "75%           6.000000\n",
       "max           9.000000\n",
       "Name: slot, dtype: float64"
      ]
     },
     "execution_count": 133,
     "metadata": {},
     "output_type": "execute_result"
    }
   ],
   "source": [
    "objectives_feature_5.describe()"
   ]
  },
  {
   "cell_type": "code",
   "execution_count": 134,
   "id": "17873b4f",
   "metadata": {},
   "outputs": [
    {
     "data": {
      "text/plain": [
       "count                     1173396\n",
       "unique                          7\n",
       "top       CHAT_MESSAGE_TOWER_KILL\n",
       "freq                       663032\n",
       "Name: subtype, dtype: object"
      ]
     },
     "execution_count": 134,
     "metadata": {},
     "output_type": "execute_result"
    }
   ],
   "source": [
    "objectives_feature_6.describe()"
   ]
  },
  {
   "cell_type": "code",
   "execution_count": 135,
   "id": "c359605b",
   "metadata": {},
   "outputs": [
    {
     "data": {
      "text/plain": [
       "count    778755.000000\n",
       "mean          6.642750\n",
       "std          18.291118\n",
       "min           2.000000\n",
       "25%           2.000000\n",
       "50%           3.000000\n",
       "75%           3.000000\n",
       "max         140.000000\n",
       "Name: team, dtype: float64"
      ]
     },
     "execution_count": 135,
     "metadata": {},
     "output_type": "execute_result"
    }
   ],
   "source": [
    "objectives_feature_7.describe()"
   ]
  },
  {
   "cell_type": "code",
   "execution_count": 136,
   "id": "c6f6cb2c",
   "metadata": {},
   "outputs": [
    {
     "data": {
      "text/plain": [
       "count    1.173396e+06\n",
       "mean     1.799777e+03\n",
       "std      7.932244e+02\n",
       "min     -5.500000e+01\n",
       "25%      1.255000e+03\n",
       "50%      1.805000e+03\n",
       "75%      2.332000e+03\n",
       "max      1.552900e+04\n",
       "Name: time, dtype: float64"
      ]
     },
     "execution_count": 136,
     "metadata": {},
     "output_type": "execute_result"
    }
   ],
   "source": [
    "objectives_feature_8.describe()"
   ]
  },
  {
   "cell_type": "code",
   "execution_count": 263,
   "id": "3ae63ce5",
   "metadata": {},
   "outputs": [
    {
     "data": {
      "image/png": "[encoded data removed]",
      "text/plain": [
       "<Figure size 432x288 with 1 Axes>"
      ]
     },
     "metadata": {
      "needs_background": "light"
     },
     "output_type": "display_data"
    }
   ],
   "source": [
    "y = list(objectives.time)\n",
    "plt.boxplot(y)\n",
    "plt.show()"
   ]
  },
  {
   "cell_type": "code",
   "execution_count": 137,
   "id": "9035cf54",
   "metadata": {},
   "outputs": [
    {
     "data": {
      "text/plain": [
       "count    1.173396e+06\n",
       "mean     1.034998e+02\n",
       "std      2.999297e+02\n",
       "min      0.000000e+00\n",
       "25%      2.000000e+00\n",
       "50%      3.000000e+00\n",
       "75%      6.400000e+01\n",
       "max      2.048000e+03\n",
       "Name: value, dtype: float64"
      ]
     },
     "execution_count": 137,
     "metadata": {},
     "output_type": "execute_result"
    }
   ],
   "source": [
    "objectives_feature_9.describe()"
   ]
  },
  {
   "cell_type": "code",
   "execution_count": 264,
   "id": "32444b1e",
   "metadata": {},
   "outputs": [
    {
     "data": {
      "image/png": "[encoded data removed]",
      "text/plain": [
       "<Figure size 432x288 with 1 Axes>"
      ]
     },
     "metadata": {
      "needs_background": "light"
     },
     "output_type": "display_data"
    }
   ],
   "source": [
    "y = list(objectives.value)\n",
    "plt.boxplot(y)\n",
    "plt.show()"
   ]
  },
  {
   "cell_type": "code",
   "execution_count": 138,
   "id": "bbf2ede1",
   "metadata": {},
   "outputs": [
    {
     "data": {
      "text/plain": [
       "count                       19\n",
       "unique                      19\n",
       "top       2010-12-24T00:00:00Z\n",
       "freq                         1\n",
       "Name: patch_date, dtype: object"
      ]
     },
     "execution_count": 138,
     "metadata": {},
     "output_type": "execute_result"
    }
   ],
   "source": [
    "# patch_dates dataset\n",
    "\n",
    "patch_dates\n",
    "\n",
    "patch_dates_feature_1 = patch_dates[\"patch_date\"]\n",
    "patch_dates_feature_2 = patch_dates[\"name\"]\n",
    "\n",
    "patch_dates_feature_1.describe()"
   ]
  },
  {
   "cell_type": "code",
   "execution_count": 139,
   "id": "9c1ccede",
   "metadata": {},
   "outputs": [
    {
     "data": {
      "text/plain": [
       "count    19.000000\n",
       "mean      6.790000\n",
       "std       0.056273\n",
       "min       6.700000\n",
       "25%       6.745000\n",
       "50%       6.790000\n",
       "75%       6.835000\n",
       "max       6.880000\n",
       "Name: name, dtype: float64"
      ]
     },
     "execution_count": 139,
     "metadata": {},
     "output_type": "execute_result"
    }
   ],
   "source": [
    "patch_dates_feature_2.describe()"
   ]
  },
  {
   "cell_type": "code",
   "execution_count": 140,
   "id": "2a7b0c9c",
   "metadata": {
    "scrolled": true
   },
   "outputs": [
    {
     "data": {
      "text/plain": [
       "count    8.342260e+05\n",
       "mean    -9.225868e+07\n",
       "std      8.103222e+07\n",
       "min     -2.991940e+08\n",
       "25%     -1.499249e+08\n",
       "50%     -9.585022e+07\n",
       "75%      4.883475e+04\n",
       "max      3.305130e+05\n",
       "Name: account_id, dtype: float64"
      ]
     },
     "execution_count": 140,
     "metadata": {},
     "output_type": "execute_result"
    }
   ],
   "source": [
    "# player_ratings dataset\n",
    "\n",
    "player_ratings\n",
    "\n",
    "player_ratings_feature_1 = player_ratings[\"account_id\"]\n",
    "player_ratings_feature_2 = player_ratings[\"total_wins\"]\n",
    "player_ratings_feature_3 = player_ratings[\"total_matches\"]\n",
    "player_ratings_feature_4 = player_ratings[\"trueskill_mu\"]\n",
    "player_ratings_feature_5 = player_ratings[\"trueskill_sigma\"]\n",
    "\n",
    "player_ratings_feature_1.describe()"
   ]
  },
  {
   "cell_type": "code",
   "execution_count": 141,
   "id": "cb7a047c",
   "metadata": {},
   "outputs": [
    {
     "data": {
      "text/plain": [
       "count    8.342260e+05\n",
       "mean     5.479852e+00\n",
       "std      1.760984e+03\n",
       "min      0.000000e+00\n",
       "25%      0.000000e+00\n",
       "50%      1.000000e+00\n",
       "75%      3.000000e+00\n",
       "max      1.608398e+06\n",
       "Name: total_wins, dtype: float64"
      ]
     },
     "execution_count": 141,
     "metadata": {},
     "output_type": "execute_result"
    }
   ],
   "source": [
    "player_ratings_feature_2.describe()"
   ]
  },
  {
   "cell_type": "code",
   "execution_count": 265,
   "id": "0866e1cc",
   "metadata": {},
   "outputs": [
    {
     "data": {
      "image/png": "[encoded data removed]",
      "text/plain": [
       "<Figure size 432x288 with 1 Axes>"
      ]
     },
     "metadata": {
      "needs_background": "light"
     },
     "output_type": "display_data"
    }
   ],
   "source": [
    "y = list(player_ratings.total_wins)\n",
    "plt.boxplot(y)\n",
    "plt.show()"
   ]
  },
  {
   "cell_type": "code",
   "execution_count": 142,
   "id": "c553d908",
   "metadata": {},
   "outputs": [
    {
     "data": {
      "text/plain": [
       "count    8.342260e+05\n",
       "mean     1.095979e+01\n",
       "std      3.629559e+03\n",
       "min      1.000000e+00\n",
       "25%      1.000000e+00\n",
       "50%      2.000000e+00\n",
       "75%      6.000000e+00\n",
       "max      3.315071e+06\n",
       "Name: total_matches, dtype: float64"
      ]
     },
     "execution_count": 142,
     "metadata": {},
     "output_type": "execute_result"
    }
   ],
   "source": [
    "player_ratings_feature_3.describe()"
   ]
  },
  {
   "cell_type": "code",
   "execution_count": 266,
   "id": "f86336b4",
   "metadata": {},
   "outputs": [
    {
     "data": {
      "image/png": "[encoded data removed]",
      "text/plain": [
       "<Figure size 432x288 with 1 Axes>"
      ]
     },
     "metadata": {
      "needs_background": "light"
     },
     "output_type": "display_data"
    }
   ],
   "source": [
    "y = list(player_ratings.total_matches)\n",
    "plt.boxplot(y)\n",
    "plt.show()"
   ]
  },
  {
   "cell_type": "code",
   "execution_count": 143,
   "id": "e6ed662b",
   "metadata": {},
   "outputs": [
    {
     "data": {
      "text/plain": [
       "count    834226.000000\n",
       "mean         25.112577\n",
       "std           3.231603\n",
       "min           4.993478\n",
       "25%          22.906655\n",
       "50%          25.018193\n",
       "75%          27.240350\n",
       "max          48.825892\n",
       "Name: trueskill_mu, dtype: float64"
      ]
     },
     "execution_count": 143,
     "metadata": {},
     "output_type": "execute_result"
    }
   ],
   "source": [
    "player_ratings_feature_4.describe()"
   ]
  },
  {
   "cell_type": "code",
   "execution_count": 267,
   "id": "06a43753",
   "metadata": {},
   "outputs": [
    {
     "data": {
      "image/png": "[encoded data removed]",
      "text/plain": [
       "<Figure size 432x288 with 1 Axes>"
      ]
     },
     "metadata": {
      "needs_background": "light"
     },
     "output_type": "display_data"
    }
   ],
   "source": [
    "y = list(player_ratings.trueskill_mu)\n",
    "plt.boxplot(y)\n",
    "plt.show()"
   ]
  },
  {
   "cell_type": "code",
   "execution_count": 144,
   "id": "cc07b692",
   "metadata": {},
   "outputs": [
    {
     "data": {
      "text/plain": [
       "count    834226.000000\n",
       "mean          7.270275\n",
       "std           1.128826\n",
       "min           1.404098\n",
       "25%           6.957458\n",
       "50%           7.732504\n",
       "75%           8.058739\n",
       "max           8.333689\n",
       "Name: trueskill_sigma, dtype: float64"
      ]
     },
     "execution_count": 144,
     "metadata": {},
     "output_type": "execute_result"
    }
   ],
   "source": [
    "player_ratings_feature_5.describe()"
   ]
  },
  {
   "cell_type": "code",
   "execution_count": 268,
   "id": "6b2d22ca",
   "metadata": {},
   "outputs": [
    {
     "data": {
      "image/png": "[encoded data removed]",
      "text/plain": [
       "<Figure size 432x288 with 1 Axes>"
      ]
     },
     "metadata": {
      "needs_background": "light"
     },
     "output_type": "display_data"
    }
   ],
   "source": [
    "y = list(player_ratings.trueskill_sigma)\n",
    "plt.boxplot(y)\n",
    "plt.show()"
   ]
  },
  {
   "cell_type": "code",
   "execution_count": 145,
   "id": "93f23df9",
   "metadata": {},
   "outputs": [
    {
     "data": {
      "text/plain": [
       "count    2.209778e+06\n",
       "mean     2.501692e+04\n",
       "std      1.443619e+04\n",
       "min      0.000000e+00\n",
       "25%      1.253500e+04\n",
       "50%      2.503200e+04\n",
       "75%      3.752300e+04\n",
       "max      4.999900e+04\n",
       "Name: match_id, dtype: float64"
      ]
     },
     "execution_count": 145,
     "metadata": {},
     "output_type": "execute_result"
    }
   ],
   "source": [
    "# player_time\n",
    "\n",
    "player_time\n",
    "\n",
    "player_time_feature_1 = player_time[\"match_id\"]\n",
    "player_time_feature_2 = player_time[\"times\"]\n",
    "player_time_feature_3 = player_time[\"gold_t_0\"]\n",
    "player_time_feature_4 = player_time[\"lh_t_0\"]\n",
    "player_time_feature_5 = player_time[\"xp_t_0\"]\n",
    "player_time_feature_6 = player_time[\"gold_t_1\"]\n",
    "player_time_feature_7 = player_time[\"lh_t_1\"]\n",
    "player_time_feature_8 = player_time[\"xp_t_1\"]\n",
    "player_time_feature_9 = player_time[\"gold_t_2\"]\n",
    "player_time_feature_10 = player_time[\"lh_t_2\"]\n",
    "player_time_feature_11 = player_time[\"xp_t_129\"]\n",
    "player_time_feature_12 = player_time[\"gold_t_130\"]\n",
    "player_time_feature_13 = player_time[\"lh_t_130\"]\n",
    "player_time_feature_14 = player_time[\"xp_t_130\"]\n",
    "player_time_feature_15 = player_time[\"gold_t_131\"]\n",
    "player_time_feature_16 = player_time[\"lh_t_131\"]\n",
    "player_time_feature_17 = player_time[\"gold_t_132\"]\n",
    "player_time_feature_18 = player_time[\"lh_t_132\"]\n",
    "player_time_feature_19 = player_time[\"xp_t_132\"]\n",
    "\n",
    "player_time_feature_1.describe()"
   ]
  },
  {
   "cell_type": "code",
   "execution_count": 146,
   "id": "29541088",
   "metadata": {},
   "outputs": [
    {
     "data": {
      "text/plain": [
       "count    2.209778e+06\n",
       "mean     1.371875e+03\n",
       "std      8.965257e+02\n",
       "min      0.000000e+00\n",
       "25%      6.600000e+02\n",
       "50%      1.320000e+03\n",
       "75%      1.980000e+03\n",
       "max      1.614000e+04\n",
       "Name: times, dtype: float64"
      ]
     },
     "execution_count": 146,
     "metadata": {},
     "output_type": "execute_result"
    }
   ],
   "source": [
    "player_time_feature_2.describe()"
   ]
  },
  {
   "cell_type": "code",
   "execution_count": 277,
   "id": "54d66a45",
   "metadata": {},
   "outputs": [
    {
     "data": {
      "image/png": "[encoded data removed]",
      "text/plain": [
       "<Figure size 432x288 with 1 Axes>"
      ]
     },
     "metadata": {
      "needs_background": "light"
     },
     "output_type": "display_data"
    }
   ],
   "source": [
    "y = list(player_time.times)\n",
    "plt.boxplot(y)\n",
    "plt.show()"
   ]
  },
  {
   "cell_type": "code",
   "execution_count": 270,
   "id": "eae97aa4",
   "metadata": {},
   "outputs": [
    {
     "data": {
      "text/plain": [
       "count    2.209778e+06\n",
       "mean     8.214262e+03\n",
       "std      7.023217e+03\n",
       "min      0.000000e+00\n",
       "25%      2.589000e+03\n",
       "50%      6.631000e+03\n",
       "75%      1.206300e+04\n",
       "max      9.317100e+04\n",
       "Name: gold_t_0, dtype: float64"
      ]
     },
     "execution_count": 270,
     "metadata": {},
     "output_type": "execute_result"
    }
   ],
   "source": [
    "player_time_feature_3.describe()"
   ]
  },
  {
   "cell_type": "code",
   "execution_count": 278,
   "id": "f29e462f",
   "metadata": {},
   "outputs": [
    {
     "data": {
      "image/png": "[encoded data removed]",
      "text/plain": [
       "<Figure size 432x288 with 1 Axes>"
      ]
     },
     "metadata": {
      "needs_background": "light"
     },
     "output_type": "display_data"
    }
   ],
   "source": [
    "y = list(player_time.gold_t_0)\n",
    "plt.boxplot(y)\n",
    "plt.show()"
   ]
  },
  {
   "cell_type": "code",
   "execution_count": 279,
   "id": "097aa1ca",
   "metadata": {},
   "outputs": [
    {
     "data": {
      "text/plain": [
       "count    2.209778e+06\n",
       "mean     6.858699e+01\n",
       "std      7.571156e+01\n",
       "min      0.000000e+00\n",
       "25%      1.500000e+01\n",
       "50%      4.400000e+01\n",
       "75%      9.700000e+01\n",
       "max      1.183000e+03\n",
       "Name: lh_t_0, dtype: float64"
      ]
     },
     "execution_count": 279,
     "metadata": {},
     "output_type": "execute_result"
    }
   ],
   "source": [
    "player_time_feature_4.describe()"
   ]
  },
  {
   "cell_type": "code",
   "execution_count": null,
   "id": "db25daf1",
   "metadata": {},
   "outputs": [],
   "source": [
    "y = list(player_time.lh_t_0)\n",
    "plt.boxplot(y)\n",
    "plt.show()"
   ]
  },
  {
   "cell_type": "code",
   "execution_count": 149,
   "id": "ca7de2c0",
   "metadata": {},
   "outputs": [
    {
     "data": {
      "text/plain": [
       "count    2.209778e+06\n",
       "mean     9.169268e+03\n",
       "std      8.035813e+03\n",
       "min      0.000000e+00\n",
       "25%      2.726000e+03\n",
       "50%      7.034000e+03\n",
       "75%      1.351200e+04\n",
       "max      3.457400e+04\n",
       "Name: xp_t_0, dtype: float64"
      ]
     },
     "execution_count": 149,
     "metadata": {},
     "output_type": "execute_result"
    }
   ],
   "source": [
    "player_time_feature_5.describe()"
   ]
  },
  {
   "cell_type": "code",
   "execution_count": 280,
   "id": "8ad5c70d",
   "metadata": {},
   "outputs": [
    {
     "data": {
      "image/png": "[encoded data removed]",
      "text/plain": [
       "<Figure size 432x288 with 1 Axes>"
      ]
     },
     "metadata": {
      "needs_background": "light"
     },
     "output_type": "display_data"
    }
   ],
   "source": [
    "y = list(player_time.xp_t_0)\n",
    "plt.boxplot(y)\n",
    "plt.show()"
   ]
  },
  {
   "cell_type": "code",
   "execution_count": 150,
   "id": "44eb7f75",
   "metadata": {},
   "outputs": [
    {
     "data": {
      "text/plain": [
       "count    2.209778e+06\n",
       "mean     8.073114e+03\n",
       "std      6.968762e+03\n",
       "min      0.000000e+00\n",
       "25%      2.536000e+03\n",
       "50%      6.514000e+03\n",
       "75%      1.183700e+04\n",
       "max      1.727280e+05\n",
       "Name: gold_t_1, dtype: float64"
      ]
     },
     "execution_count": 150,
     "metadata": {},
     "output_type": "execute_result"
    }
   ],
   "source": [
    "player_time_feature_6.describe()"
   ]
  },
  {
   "cell_type": "code",
   "execution_count": 274,
   "id": "66ecce64",
   "metadata": {},
   "outputs": [
    {
     "data": {
      "image/png": "[encoded data removed]",
      "text/plain": [
       "<Figure size 432x288 with 1 Axes>"
      ]
     },
     "metadata": {
      "needs_background": "light"
     },
     "output_type": "display_data"
    }
   ],
   "source": [
    "y = list(player_time.gold_t_1)\n",
    "plt.boxplot(y)\n",
    "plt.show()"
   ]
  },
  {
   "cell_type": "code",
   "execution_count": 151,
   "id": "e2f7150e",
   "metadata": {},
   "outputs": [
    {
     "data": {
      "text/plain": [
       "count    2.209778e+06\n",
       "mean     6.630451e+01\n",
       "std      7.815977e+01\n",
       "min      0.000000e+00\n",
       "25%      1.400000e+01\n",
       "50%      4.200000e+01\n",
       "75%      9.300000e+01\n",
       "max      4.341000e+03\n",
       "Name: lh_t_1, dtype: float64"
      ]
     },
     "execution_count": 151,
     "metadata": {},
     "output_type": "execute_result"
    }
   ],
   "source": [
    "player_time_feature_7.describe()"
   ]
  },
  {
   "cell_type": "code",
   "execution_count": 281,
   "id": "157fe016",
   "metadata": {},
   "outputs": [
    {
     "data": {
      "image/png": "[encoded data removed]",
      "text/plain": [
       "<Figure size 432x288 with 1 Axes>"
      ]
     },
     "metadata": {
      "needs_background": "light"
     },
     "output_type": "display_data"
    }
   ],
   "source": [
    "y = list(player_time.lh_t_1)\n",
    "plt.boxplot(y)\n",
    "plt.show()"
   ]
  },
  {
   "cell_type": "code",
   "execution_count": 152,
   "id": "f2b89029",
   "metadata": {},
   "outputs": [
    {
     "data": {
      "text/plain": [
       "count    2.209778e+06\n",
       "mean     9.003470e+03\n",
       "std      7.923962e+03\n",
       "min      0.000000e+00\n",
       "25%      2.668000e+03\n",
       "50%      6.899000e+03\n",
       "75%      1.323800e+04\n",
       "max      3.455100e+04\n",
       "Name: xp_t_1, dtype: float64"
      ]
     },
     "execution_count": 152,
     "metadata": {},
     "output_type": "execute_result"
    }
   ],
   "source": [
    "player_time_feature_8.describe()"
   ]
  },
  {
   "cell_type": "code",
   "execution_count": 282,
   "id": "b6dd986e",
   "metadata": {},
   "outputs": [
    {
     "data": {
      "image/png": "[encoded data removed]",
      "text/plain": [
       "<Figure size 432x288 with 1 Axes>"
      ]
     },
     "metadata": {
      "needs_background": "light"
     },
     "output_type": "display_data"
    }
   ],
   "source": [
    "y = list(player_time.xp_t_1)\n",
    "plt.boxplot(y)\n",
    "plt.show()"
   ]
  },
  {
   "cell_type": "code",
   "execution_count": 153,
   "id": "3e4da107",
   "metadata": {},
   "outputs": [
    {
     "data": {
      "text/plain": [
       "count    2.209778e+06\n",
       "mean     8.082828e+03\n",
       "std      6.924552e+03\n",
       "min      0.000000e+00\n",
       "25%      2.536000e+03\n",
       "50%      6.514000e+03\n",
       "75%      1.185700e+04\n",
       "max      7.424700e+04\n",
       "Name: gold_t_2, dtype: float64"
      ]
     },
     "execution_count": 153,
     "metadata": {},
     "output_type": "execute_result"
    }
   ],
   "source": [
    "player_time_feature_9.describe()"
   ]
  },
  {
   "cell_type": "code",
   "execution_count": 283,
   "id": "0d7ba151",
   "metadata": {},
   "outputs": [
    {
     "data": {
      "image/png": "[encoded data removed]",
      "text/plain": [
       "<Figure size 432x288 with 1 Axes>"
      ]
     },
     "metadata": {
      "needs_background": "light"
     },
     "output_type": "display_data"
    }
   ],
   "source": [
    "y = list(player_time.gold_t_2)\n",
    "plt.boxplot(y)\n",
    "plt.show()"
   ]
  },
  {
   "cell_type": "code",
   "execution_count": 154,
   "id": "7748e557",
   "metadata": {},
   "outputs": [
    {
     "data": {
      "text/plain": [
       "count    2.209778e+06\n",
       "mean     6.627810e+01\n",
       "std      7.398861e+01\n",
       "min      0.000000e+00\n",
       "25%      1.400000e+01\n",
       "50%      4.200000e+01\n",
       "75%      9.300000e+01\n",
       "max      1.045000e+03\n",
       "Name: lh_t_2, dtype: float64"
      ]
     },
     "execution_count": 154,
     "metadata": {},
     "output_type": "execute_result"
    }
   ],
   "source": [
    "player_time_feature_10.describe()"
   ]
  },
  {
   "cell_type": "code",
   "execution_count": 284,
   "id": "a21ea1b7",
   "metadata": {},
   "outputs": [
    {
     "data": {
      "image/png": "[encoded data removed]",
      "text/plain": [
       "<Figure size 432x288 with 1 Axes>"
      ]
     },
     "metadata": {
      "needs_background": "light"
     },
     "output_type": "display_data"
    }
   ],
   "source": [
    "y = list(player_time.lh_t_2)\n",
    "plt.boxplot(y)\n",
    "plt.show()"
   ]
  },
  {
   "cell_type": "code",
   "execution_count": 155,
   "id": "c98a56bf",
   "metadata": {},
   "outputs": [
    {
     "data": {
      "text/plain": [
       "count    2.209778e+06\n",
       "mean     9.087373e+03\n",
       "std      8.051436e+03\n",
       "min      0.000000e+00\n",
       "25%      2.662000e+03\n",
       "50%      6.885000e+03\n",
       "75%      1.336000e+04\n",
       "max      3.457100e+04\n",
       "Name: xp_t_129, dtype: float64"
      ]
     },
     "execution_count": 155,
     "metadata": {},
     "output_type": "execute_result"
    }
   ],
   "source": [
    "player_time_feature_11.describe()"
   ]
  },
  {
   "cell_type": "code",
   "execution_count": 285,
   "id": "f5e0bb79",
   "metadata": {},
   "outputs": [
    {
     "data": {
      "image/png": "[encoded data removed]",
      "text/plain": [
       "<Figure size 432x288 with 1 Axes>"
      ]
     },
     "metadata": {
      "needs_background": "light"
     },
     "output_type": "display_data"
    }
   ],
   "source": [
    "y = list(player_time.xp_t_129)\n",
    "plt.boxplot(y)\n",
    "plt.show()"
   ]
  },
  {
   "cell_type": "code",
   "execution_count": 156,
   "id": "d8f05409",
   "metadata": {},
   "outputs": [
    {
     "data": {
      "text/plain": [
       "count    2.209778e+06\n",
       "mean     8.103465e+03\n",
       "std      7.035336e+03\n",
       "min      0.000000e+00\n",
       "25%      2.530000e+03\n",
       "50%      6.460000e+03\n",
       "75%      1.183800e+04\n",
       "max      1.070560e+05\n",
       "Name: gold_t_130, dtype: float64"
      ]
     },
     "execution_count": 156,
     "metadata": {},
     "output_type": "execute_result"
    }
   ],
   "source": [
    "player_time_feature_12.describe()"
   ]
  },
  {
   "cell_type": "code",
   "execution_count": 286,
   "id": "225a2ef7",
   "metadata": {},
   "outputs": [
    {
     "data": {
      "image/png": "[encoded data removed]",
      "text/plain": [
       "<Figure size 432x288 with 1 Axes>"
      ]
     },
     "metadata": {
      "needs_background": "light"
     },
     "output_type": "display_data"
    }
   ],
   "source": [
    "y = list(player_time.gold_t_130)\n",
    "plt.boxplot(y)\n",
    "plt.show()"
   ]
  },
  {
   "cell_type": "code",
   "execution_count": 157,
   "id": "e4be199b",
   "metadata": {},
   "outputs": [
    {
     "data": {
      "text/plain": [
       "count    2.209778e+06\n",
       "mean     6.671832e+01\n",
       "std      7.539959e+01\n",
       "min      0.000000e+00\n",
       "25%      1.400000e+01\n",
       "50%      4.200000e+01\n",
       "75%      9.300000e+01\n",
       "max      1.319000e+03\n",
       "Name: lh_t_130, dtype: float64"
      ]
     },
     "execution_count": 157,
     "metadata": {},
     "output_type": "execute_result"
    }
   ],
   "source": [
    "player_time_feature_13.describe()"
   ]
  },
  {
   "cell_type": "code",
   "execution_count": 287,
   "id": "8c807633",
   "metadata": {},
   "outputs": [
    {
     "data": {
      "image/png": "[encoded data removed]",
      "text/plain": [
       "<Figure size 432x288 with 1 Axes>"
      ]
     },
     "metadata": {
      "needs_background": "light"
     },
     "output_type": "display_data"
    }
   ],
   "source": [
    "y = list(player_time.lh_t_130)\n",
    "plt.boxplot(y)\n",
    "plt.show()"
   ]
  },
  {
   "cell_type": "code",
   "execution_count": 158,
   "id": "5bdb17f5",
   "metadata": {},
   "outputs": [
    {
     "data": {
      "text/plain": [
       "count    2.209778e+06\n",
       "mean     9.086552e+03\n",
       "std      8.050322e+03\n",
       "min      0.000000e+00\n",
       "25%      2.671000e+03\n",
       "50%      6.881000e+03\n",
       "75%      1.334900e+04\n",
       "max      3.452200e+04\n",
       "Name: xp_t_130, dtype: float64"
      ]
     },
     "execution_count": 158,
     "metadata": {},
     "output_type": "execute_result"
    }
   ],
   "source": [
    "player_time_feature_14.describe()"
   ]
  },
  {
   "cell_type": "code",
   "execution_count": 288,
   "id": "f8e42b5e",
   "metadata": {},
   "outputs": [
    {
     "data": {
      "image/png": "[encoded data removed]",
      "text/plain": [
       "<Figure size 432x288 with 1 Axes>"
      ]
     },
     "metadata": {
      "needs_background": "light"
     },
     "output_type": "display_data"
    }
   ],
   "source": [
    "y = list(player_time.xp_t_130)\n",
    "plt.boxplot(y)\n",
    "plt.show()"
   ]
  },
  {
   "cell_type": "code",
   "execution_count": 159,
   "id": "dac3275b",
   "metadata": {},
   "outputs": [
    {
     "data": {
      "text/plain": [
       "count    2.209778e+06\n",
       "mean     8.116964e+03\n",
       "std      7.058066e+03\n",
       "min      0.000000e+00\n",
       "25%      2.532000e+03\n",
       "50%      6.461000e+03\n",
       "75%      1.186300e+04\n",
       "max      1.091030e+05\n",
       "Name: gold_t_131, dtype: float64"
      ]
     },
     "execution_count": 159,
     "metadata": {},
     "output_type": "execute_result"
    }
   ],
   "source": [
    "player_time_feature_15.describe()"
   ]
  },
  {
   "cell_type": "code",
   "execution_count": 289,
   "id": "ae8d9fef",
   "metadata": {},
   "outputs": [
    {
     "data": {
      "image/png": "[encoded data removed]",
      "text/plain": [
       "<Figure size 432x288 with 1 Axes>"
      ]
     },
     "metadata": {
      "needs_background": "light"
     },
     "output_type": "display_data"
    }
   ],
   "source": [
    "y = list(player_time.gold_t_131)\n",
    "plt.boxplot(y)\n",
    "plt.show()"
   ]
  },
  {
   "cell_type": "code",
   "execution_count": 160,
   "id": "eaeabfd3",
   "metadata": {},
   "outputs": [
    {
     "data": {
      "text/plain": [
       "count    2.209778e+06\n",
       "mean     6.685427e+01\n",
       "std      7.575212e+01\n",
       "min      0.000000e+00\n",
       "25%      1.400000e+01\n",
       "50%      4.200000e+01\n",
       "75%      9.400000e+01\n",
       "max      1.340000e+03\n",
       "Name: lh_t_131, dtype: float64"
      ]
     },
     "execution_count": 160,
     "metadata": {},
     "output_type": "execute_result"
    }
   ],
   "source": [
    "player_time_feature_16.describe()"
   ]
  },
  {
   "cell_type": "code",
   "execution_count": 290,
   "id": "b54a6e8b",
   "metadata": {},
   "outputs": [
    {
     "data": {
      "image/png": "[encoded data removed]",
      "text/plain": [
       "<Figure size 432x288 with 1 Axes>"
      ]
     },
     "metadata": {
      "needs_background": "light"
     },
     "output_type": "display_data"
    }
   ],
   "source": [
    "y = list(player_time.lh_t_131)\n",
    "plt.boxplot(y)\n",
    "plt.show()"
   ]
  },
  {
   "cell_type": "code",
   "execution_count": 161,
   "id": "70c49bc8",
   "metadata": {},
   "outputs": [
    {
     "data": {
      "text/plain": [
       "count    2.209778e+06\n",
       "mean     8.037616e+03\n",
       "std      6.978853e+03\n",
       "min      0.000000e+00\n",
       "25%      2.504000e+03\n",
       "50%      6.400000e+03\n",
       "75%      1.174300e+04\n",
       "max      1.138630e+05\n",
       "Name: gold_t_132, dtype: float64"
      ]
     },
     "execution_count": 161,
     "metadata": {},
     "output_type": "execute_result"
    }
   ],
   "source": [
    "player_time_feature_17.describe()"
   ]
  },
  {
   "cell_type": "code",
   "execution_count": null,
   "id": "51d59c74",
   "metadata": {},
   "outputs": [],
   "source": [
    "y = list(player_time.gold_t_132)\n",
    "plt.boxplot(y)\n",
    "plt.show()"
   ]
  },
  {
   "cell_type": "code",
   "execution_count": 162,
   "id": "33d544da",
   "metadata": {},
   "outputs": [
    {
     "data": {
      "text/plain": [
       "count    2.209778e+06\n",
       "mean     6.585997e+01\n",
       "std      7.478857e+01\n",
       "min      0.000000e+00\n",
       "25%      1.400000e+01\n",
       "50%      4.100000e+01\n",
       "75%      9.200000e+01\n",
       "max      1.256000e+03\n",
       "Name: lh_t_132, dtype: float64"
      ]
     },
     "execution_count": 162,
     "metadata": {},
     "output_type": "execute_result"
    }
   ],
   "source": [
    "player_time_feature_18.describe()"
   ]
  },
  {
   "cell_type": "code",
   "execution_count": 291,
   "id": "dd373df0",
   "metadata": {},
   "outputs": [
    {
     "data": {
      "image/png": "[encoded data removed]",
      "text/plain": [
       "<Figure size 432x288 with 1 Axes>"
      ]
     },
     "metadata": {
      "needs_background": "light"
     },
     "output_type": "display_data"
    }
   ],
   "source": [
    "y = list(player_time.lh_t_132)\n",
    "plt.boxplot(y)\n",
    "plt.show()"
   ]
  },
  {
   "cell_type": "code",
   "execution_count": 163,
   "id": "f93c243a",
   "metadata": {},
   "outputs": [
    {
     "data": {
      "text/plain": [
       "count    2.209778e+06\n",
       "mean     9.035641e+03\n",
       "std      8.027818e+03\n",
       "min      0.000000e+00\n",
       "25%      2.652000e+03\n",
       "50%      6.831000e+03\n",
       "75%      1.325200e+04\n",
       "max      3.457400e+04\n",
       "Name: xp_t_132, dtype: float64"
      ]
     },
     "execution_count": 163,
     "metadata": {},
     "output_type": "execute_result"
    }
   ],
   "source": [
    "player_time_feature_19.describe()"
   ]
  },
  {
   "cell_type": "code",
   "execution_count": 292,
   "id": "1dbc8233",
   "metadata": {},
   "outputs": [
    {
     "data": {
      "image/png": "[encoded data removed]",
      "text/plain": [
       "<Figure size 432x288 with 1 Axes>"
      ]
     },
     "metadata": {
      "needs_background": "light"
     },
     "output_type": "display_data"
    }
   ],
   "source": [
    "y = list(player_time.xp_t_132)\n",
    "plt.boxplot(y)\n",
    "plt.show()"
   ]
  },
  {
   "cell_type": "code",
   "execution_count": 178,
   "id": "28e305ad",
   "metadata": {},
   "outputs": [
    {
     "data": {
      "text/plain": [
       "count    2.209778e+06\n",
       "mean     2.501692e+04\n",
       "std      1.443619e+04\n",
       "min      0.000000e+00\n",
       "25%      1.253500e+04\n",
       "50%      2.503200e+04\n",
       "75%      3.752300e+04\n",
       "max      4.999900e+04\n",
       "Name: match_id, dtype: float64"
      ]
     },
     "execution_count": 178,
     "metadata": {},
     "output_type": "execute_result"
    }
   ],
   "source": [
    "players\n",
    "\n",
    "players_feature_1 = players[\"match_id\"]\n",
    "players_feature_2 = players[\"account_id\"]\n",
    "players_feature_3 = players[\"hero_id\"]\n",
    "players_feature_4 = players[\"player_slot\"]\n",
    "players_feature_5 = players[\"gold\"]\n",
    "players_feature_6 = players[\"gold_spent\"]\n",
    "players_feature_7 = players[\"gold_per_min\"]\n",
    "players_feature_8 = players[\"kills\"]\n",
    "players_feature_9 = players[\"deaths\"]\n",
    "players_feature_10 = players[\"unit_order_glyph\"]\n",
    "players_feature_11 = players[\"unit_order_eject_item_from_stash\"]\n",
    "players_feature_12 = players[\"unit_order_cast_rune\"]\n",
    "players_feature_13 = players[\"unit_order_ping_ability\"]\n",
    "players_feature_14 = players[\"unit_order_move_to_direction\"]\n",
    "players_feature_15 = players[\"unit_order_patrol\"]\n",
    "players_feature_16 = players[\"unit_order_vector_target_position\"]\n",
    "players_feature_17 = players[\"unit_order_radar\"]\n",
    "players_feature_18 = players[\"unit_order_set_item_combine_lock\"]\n",
    "players_feature_19 = players[\"unit_order_continue\"]\n",
    "\n",
    "player_time_feature_1.describe()"
   ]
  },
  {
   "cell_type": "code",
   "execution_count": 184,
   "id": "4253cbc6",
   "metadata": {},
   "outputs": [
    {
     "data": {
      "text/plain": [
       "count    500000.000000\n",
       "mean      39589.991014\n",
       "std       46761.698967\n",
       "min           0.000000\n",
       "25%           0.000000\n",
       "50%       19212.500000\n",
       "75%       70638.000000\n",
       "max      158360.000000\n",
       "Name: account_id, dtype: float64"
      ]
     },
     "execution_count": 184,
     "metadata": {},
     "output_type": "execute_result"
    }
   ],
   "source": [
    "players_feature_2.describe()"
   ]
  },
  {
   "cell_type": "code",
   "execution_count": 185,
   "id": "a5becd83",
   "metadata": {},
   "outputs": [
    {
     "data": {
      "text/plain": [
       "count    500000.000000\n",
       "mean         50.551456\n",
       "std          32.809123\n",
       "min           0.000000\n",
       "25%          21.000000\n",
       "50%          47.000000\n",
       "75%          75.000000\n",
       "max         112.000000\n",
       "Name: hero_id, dtype: float64"
      ]
     },
     "execution_count": 185,
     "metadata": {},
     "output_type": "execute_result"
    }
   ],
   "source": [
    "players_feature_3.describe()"
   ]
  },
  {
   "cell_type": "code",
   "execution_count": 186,
   "id": "2cca36e0",
   "metadata": {},
   "outputs": [
    {
     "data": {
      "text/plain": [
       "count    500000.000000\n",
       "mean         66.000000\n",
       "std          64.015687\n",
       "min           0.000000\n",
       "25%           2.000000\n",
       "50%          66.000000\n",
       "75%         130.000000\n",
       "max         132.000000\n",
       "Name: player_slot, dtype: float64"
      ]
     },
     "execution_count": 186,
     "metadata": {},
     "output_type": "execute_result"
    }
   ],
   "source": [
    "players_feature_4.describe()"
   ]
  },
  {
   "cell_type": "code",
   "execution_count": 293,
   "id": "34e83dd4",
   "metadata": {},
   "outputs": [
    {
     "data": {
      "image/png": "[encoded data removed]",
      "text/plain": [
       "<Figure size 432x288 with 1 Axes>"
      ]
     },
     "metadata": {
      "needs_background": "light"
     },
     "output_type": "display_data"
    }
   ],
   "source": [
    "y = list(players.player_slot)\n",
    "plt.boxplot(y)\n",
    "plt.show()"
   ]
  },
  {
   "cell_type": "code",
   "execution_count": 187,
   "id": "59ccf0e4",
   "metadata": {},
   "outputs": [
    {
     "data": {
      "text/plain": [
       "count    500000.000000\n",
       "mean       1888.516638\n",
       "std        1742.949262\n",
       "min           0.000000\n",
       "25%         586.000000\n",
       "50%        1350.000000\n",
       "75%        2742.000000\n",
       "max       46424.000000\n",
       "Name: gold, dtype: float64"
      ]
     },
     "execution_count": 187,
     "metadata": {},
     "output_type": "execute_result"
    }
   ],
   "source": [
    "players_feature_5.describe()"
   ]
  },
  {
   "cell_type": "code",
   "execution_count": 294,
   "id": "e72097c1",
   "metadata": {},
   "outputs": [
    {
     "data": {
      "image/png": "[encoded data removed]",
      "text/plain": [
       "<Figure size 432x288 with 1 Axes>"
      ]
     },
     "metadata": {
      "needs_background": "light"
     },
     "output_type": "display_data"
    }
   ],
   "source": [
    "y = list(players.gold)\n",
    "plt.boxplot(y)\n",
    "plt.show()"
   ]
  },
  {
   "cell_type": "code",
   "execution_count": 188,
   "id": "9b6f2d40",
   "metadata": {},
   "outputs": [
    {
     "data": {
      "text/plain": [
       "count    500000.000000\n",
       "mean      14110.043850\n",
       "std        6401.868898\n",
       "min           0.000000\n",
       "25%        9590.000000\n",
       "50%       13110.000000\n",
       "75%       17635.000000\n",
       "max      200000.000000\n",
       "Name: gold_spent, dtype: float64"
      ]
     },
     "execution_count": 188,
     "metadata": {},
     "output_type": "execute_result"
    }
   ],
   "source": [
    "players_feature_6.describe()"
   ]
  },
  {
   "cell_type": "code",
   "execution_count": 295,
   "id": "c800358e",
   "metadata": {},
   "outputs": [
    {
     "data": {
      "image/png": "[encoded data removed]",
      "text/plain": [
       "<Figure size 432x288 with 1 Axes>"
      ]
     },
     "metadata": {
      "needs_background": "light"
     },
     "output_type": "display_data"
    }
   ],
   "source": [
    "y = list(players.gold_spent)\n",
    "plt.boxplot(y)\n",
    "plt.show()"
   ]
  },
  {
   "cell_type": "code",
   "execution_count": 189,
   "id": "02000485",
   "metadata": {},
   "outputs": [
    {
     "data": {
      "text/plain": [
       "count    500000.000000\n",
       "mean        415.097178\n",
       "std         138.210124\n",
       "min         100.000000\n",
       "25%         317.000000\n",
       "50%         395.000000\n",
       "75%         496.000000\n",
       "max        1601.000000\n",
       "Name: gold_per_min, dtype: float64"
      ]
     },
     "execution_count": 189,
     "metadata": {},
     "output_type": "execute_result"
    }
   ],
   "source": [
    "players_feature_7.describe()"
   ]
  },
  {
   "cell_type": "code",
   "execution_count": 296,
   "id": "e7623a13",
   "metadata": {},
   "outputs": [
    {
     "data": {
      "image/png": "[encoded data removed]",
      "text/plain": [
       "<Figure size 432x288 with 1 Axes>"
      ]
     },
     "metadata": {
      "needs_background": "light"
     },
     "output_type": "display_data"
    }
   ],
   "source": [
    "y = list(players.gold_per_min)\n",
    "plt.boxplot(y)\n",
    "plt.show()"
   ]
  },
  {
   "cell_type": "code",
   "execution_count": 190,
   "id": "a7d2cfeb",
   "metadata": {},
   "outputs": [
    {
     "data": {
      "text/plain": [
       "count    500000.000000\n",
       "mean          7.404500\n",
       "std           5.437802\n",
       "min           0.000000\n",
       "25%           3.000000\n",
       "50%           6.000000\n",
       "75%          10.000000\n",
       "max          59.000000\n",
       "Name: kills, dtype: float64"
      ]
     },
     "execution_count": 190,
     "metadata": {},
     "output_type": "execute_result"
    }
   ],
   "source": [
    "players_feature_8.describe()"
   ]
  },
  {
   "cell_type": "code",
   "execution_count": 297,
   "id": "66d9e029",
   "metadata": {},
   "outputs": [
    {
     "data": {
      "image/png": "[encoded data removed]",
      "text/plain": [
       "<Figure size 432x288 with 1 Axes>"
      ]
     },
     "metadata": {
      "needs_background": "light"
     },
     "output_type": "display_data"
    }
   ],
   "source": [
    "y = list(players.kills)\n",
    "plt.boxplot(y)\n",
    "plt.show()"
   ]
  },
  {
   "cell_type": "code",
   "execution_count": 191,
   "id": "ade58a63",
   "metadata": {},
   "outputs": [
    {
     "data": {
      "text/plain": [
       "count    500000.000000\n",
       "mean          7.680752\n",
       "std           3.808092\n",
       "min           0.000000\n",
       "25%           5.000000\n",
       "50%           8.000000\n",
       "75%          10.000000\n",
       "max          42.000000\n",
       "Name: deaths, dtype: float64"
      ]
     },
     "execution_count": 191,
     "metadata": {},
     "output_type": "execute_result"
    }
   ],
   "source": [
    "players_feature_9.describe()"
   ]
  },
  {
   "cell_type": "code",
   "execution_count": 298,
   "id": "22d950d0",
   "metadata": {},
   "outputs": [
    {
     "data": {
      "image/png": "[encoded data removed]",
      "text/plain": [
       "<Figure size 432x288 with 1 Axes>"
      ]
     },
     "metadata": {
      "needs_background": "light"
     },
     "output_type": "display_data"
    }
   ],
   "source": [
    "y = list(players.deaths)\n",
    "plt.boxplot(y)\n",
    "plt.show()"
   ]
  },
  {
   "cell_type": "code",
   "execution_count": 299,
   "id": "81d89805",
   "metadata": {},
   "outputs": [
    {
     "data": {
      "text/plain": [
       "count    31264.000000\n",
       "mean         1.269991\n",
       "std          0.798112\n",
       "min          1.000000\n",
       "25%          1.000000\n",
       "50%          1.000000\n",
       "75%          1.000000\n",
       "max         25.000000\n",
       "Name: unit_order_eject_item_from_stash, dtype: float64"
      ]
     },
     "execution_count": 299,
     "metadata": {},
     "output_type": "execute_result"
    }
   ],
   "source": [
    "players_feature_11.describe()"
   ]
  },
  {
   "cell_type": "code",
   "execution_count": 301,
   "id": "e69ad7a6",
   "metadata": {},
   "outputs": [
    {
     "data": {
      "image/png": "[encoded data removed]",
      "text/plain": [
       "<Figure size 432x288 with 1 Axes>"
      ]
     },
     "metadata": {
      "needs_background": "light"
     },
     "output_type": "display_data"
    }
   ],
   "source": [
    "y = list(players.unit_order_glyph)\n",
    "plt.boxplot(y)\n",
    "plt.show()"
   ]
  },
  {
   "cell_type": "code",
   "execution_count": 193,
   "id": "1e67f4a6",
   "metadata": {},
   "outputs": [
    {
     "data": {
      "text/plain": [
       "count    31264.000000\n",
       "mean         1.269991\n",
       "std          0.798112\n",
       "min          1.000000\n",
       "25%          1.000000\n",
       "50%          1.000000\n",
       "75%          1.000000\n",
       "max         25.000000\n",
       "Name: unit_order_eject_item_from_stash, dtype: float64"
      ]
     },
     "execution_count": 193,
     "metadata": {},
     "output_type": "execute_result"
    }
   ],
   "source": [
    "players_feature_11.describe()"
   ]
  },
  {
   "cell_type": "code",
   "execution_count": 194,
   "id": "a1b523e3",
   "metadata": {
    "scrolled": true
   },
   "outputs": [
    {
     "data": {
      "text/plain": [
       "count    9.000000\n",
       "mean     1.222222\n",
       "std      0.666667\n",
       "min      1.000000\n",
       "25%      1.000000\n",
       "50%      1.000000\n",
       "75%      1.000000\n",
       "max      3.000000\n",
       "Name: unit_order_cast_rune, dtype: float64"
      ]
     },
     "execution_count": 194,
     "metadata": {},
     "output_type": "execute_result"
    }
   ],
   "source": [
    "players_feature_12.describe()"
   ]
  },
  {
   "cell_type": "code",
   "execution_count": 195,
   "id": "f1854bb9",
   "metadata": {},
   "outputs": [
    {
     "data": {
      "text/plain": [
       "count    339148.000000\n",
       "mean          6.197498\n",
       "std           7.353832\n",
       "min           1.000000\n",
       "25%           2.000000\n",
       "50%           4.000000\n",
       "75%           8.000000\n",
       "max         308.000000\n",
       "Name: unit_order_ping_ability, dtype: float64"
      ]
     },
     "execution_count": 195,
     "metadata": {},
     "output_type": "execute_result"
    }
   ],
   "source": [
    "players_feature_13.describe()"
   ]
  },
  {
   "cell_type": "code",
   "execution_count": 196,
   "id": "b2dc4a16",
   "metadata": {},
   "outputs": [
    {
     "data": {
      "text/plain": [
       "count    3551.000000\n",
       "mean       43.181076\n",
       "std       106.109131\n",
       "min         1.000000\n",
       "25%         3.000000\n",
       "50%         9.000000\n",
       "75%        36.000000\n",
       "max      2349.000000\n",
       "Name: unit_order_move_to_direction, dtype: float64"
      ]
     },
     "execution_count": 196,
     "metadata": {},
     "output_type": "execute_result"
    }
   ],
   "source": [
    "players_feature_14.describe()"
   ]
  },
  {
   "cell_type": "code",
   "execution_count": 197,
   "id": "34e83ebd",
   "metadata": {},
   "outputs": [
    {
     "data": {
      "text/plain": [
       "count    0.0\n",
       "mean     NaN\n",
       "std      NaN\n",
       "min      NaN\n",
       "25%      NaN\n",
       "50%      NaN\n",
       "75%      NaN\n",
       "max      NaN\n",
       "Name: unit_order_patrol, dtype: float64"
      ]
     },
     "execution_count": 197,
     "metadata": {},
     "output_type": "execute_result"
    }
   ],
   "source": [
    "players_feature_15.describe()"
   ]
  },
  {
   "cell_type": "code",
   "execution_count": 198,
   "id": "391d8161",
   "metadata": {},
   "outputs": [
    {
     "data": {
      "text/plain": [
       "count    0.0\n",
       "mean     NaN\n",
       "std      NaN\n",
       "min      NaN\n",
       "25%      NaN\n",
       "50%      NaN\n",
       "75%      NaN\n",
       "max      NaN\n",
       "Name: unit_order_vector_target_position, dtype: float64"
      ]
     },
     "execution_count": 198,
     "metadata": {},
     "output_type": "execute_result"
    }
   ],
   "source": [
    "players_feature_16.describe()"
   ]
  },
  {
   "cell_type": "code",
   "execution_count": 199,
   "id": "a9110a37",
   "metadata": {},
   "outputs": [
    {
     "data": {
      "text/plain": [
       "count    0.0\n",
       "mean     NaN\n",
       "std      NaN\n",
       "min      NaN\n",
       "25%      NaN\n",
       "50%      NaN\n",
       "75%      NaN\n",
       "max      NaN\n",
       "Name: unit_order_radar, dtype: float64"
      ]
     },
     "execution_count": 199,
     "metadata": {},
     "output_type": "execute_result"
    }
   ],
   "source": [
    "players_feature_17.describe()"
   ]
  },
  {
   "cell_type": "code",
   "execution_count": 200,
   "id": "4d6bef1a",
   "metadata": {},
   "outputs": [
    {
     "data": {
      "text/plain": [
       "count    0.0\n",
       "mean     NaN\n",
       "std      NaN\n",
       "min      NaN\n",
       "25%      NaN\n",
       "50%      NaN\n",
       "75%      NaN\n",
       "max      NaN\n",
       "Name: unit_order_set_item_combine_lock, dtype: float64"
      ]
     },
     "execution_count": 200,
     "metadata": {},
     "output_type": "execute_result"
    }
   ],
   "source": [
    "players_feature_18.describe()"
   ]
  },
  {
   "cell_type": "code",
   "execution_count": 205,
   "id": "7884e773",
   "metadata": {},
   "outputs": [
    {
     "data": {
      "text/plain": [
       "count    0.0\n",
       "mean     NaN\n",
       "std      NaN\n",
       "min      NaN\n",
       "25%      NaN\n",
       "50%      NaN\n",
       "75%      NaN\n",
       "max      NaN\n",
       "Name: unit_order_continue, dtype: float64"
      ]
     },
     "execution_count": 205,
     "metadata": {},
     "output_type": "execute_result"
    }
   ],
   "source": [
    "players_feature_19.describe()"
   ]
  },
  {
   "cell_type": "code",
   "execution_count": 206,
   "id": "ae4ad048",
   "metadata": {},
   "outputs": [
    {
     "data": {
      "text/plain": [
       "count    1.819374e+07\n",
       "mean     5.697155e+01\n",
       "std      5.394464e+01\n",
       "min      1.000000e+00\n",
       "25%      2.500000e+01\n",
       "50%      4.400000e+01\n",
       "75%      5.100000e+01\n",
       "max      2.540000e+02\n",
       "Name: item_id, dtype: float64"
      ]
     },
     "execution_count": 206,
     "metadata": {},
     "output_type": "execute_result"
    }
   ],
   "source": [
    "purchase_log\n",
    "\n",
    "purchase_log_feature_1 = purchase_log[\"item_id\"]\n",
    "purchase_log_feature_2 = purchase_log[\"time\"]\n",
    "purchase_log_feature_3 = purchase_log[\"player_slot\"]\n",
    "purchase_log_feature_4 = purchase_log[\"match_id\"]\n",
    "\n",
    "purchase_log_feature_1.describe()"
   ]
  },
  {
   "cell_type": "code",
   "execution_count": 207,
   "id": "8aadb471",
   "metadata": {},
   "outputs": [
    {
     "data": {
      "text/plain": [
       "count    1.819374e+07\n",
       "mean     1.038303e+03\n",
       "std      8.403476e+02\n",
       "min     -9.000000e+01\n",
       "25%      3.650000e+02\n",
       "50%      9.200000e+02\n",
       "75%      1.610000e+03\n",
       "max      1.591400e+04\n",
       "Name: time, dtype: float64"
      ]
     },
     "execution_count": 207,
     "metadata": {},
     "output_type": "execute_result"
    }
   ],
   "source": [
    "purchase_log_feature_2.describe()"
   ]
  },
  {
   "cell_type": "code",
   "execution_count": 306,
   "id": "5968fd7d",
   "metadata": {},
   "outputs": [
    {
     "data": {
      "image/png": "[encoded data removed]",
      "text/plain": [
       "<Figure size 432x288 with 1 Axes>"
      ]
     },
     "metadata": {
      "needs_background": "light"
     },
     "output_type": "display_data"
    }
   ],
   "source": [
    "y = list(purchase_log.time)\n",
    "plt.boxplot(y)\n",
    "plt.show()"
   ]
  },
  {
   "cell_type": "code",
   "execution_count": 208,
   "id": "0c1ae497",
   "metadata": {},
   "outputs": [
    {
     "data": {
      "text/plain": [
       "count    1.819374e+07\n",
       "mean     6.591196e+01\n",
       "std      6.401559e+01\n",
       "min      0.000000e+00\n",
       "25%      2.000000e+00\n",
       "50%      4.000000e+00\n",
       "75%      1.300000e+02\n",
       "max      1.320000e+02\n",
       "Name: player_slot, dtype: float64"
      ]
     },
     "execution_count": 208,
     "metadata": {},
     "output_type": "execute_result"
    }
   ],
   "source": [
    "purchase_log_feature_3.describe()"
   ]
  },
  {
   "cell_type": "code",
   "execution_count": 307,
   "id": "2258759f",
   "metadata": {},
   "outputs": [
    {
     "data": {
      "image/png": "[encoded data removed]",
      "text/plain": [
       "<Figure size 432x288 with 1 Axes>"
      ]
     },
     "metadata": {
      "needs_background": "light"
     },
     "output_type": "display_data"
    }
   ],
   "source": [
    "y = list(purchase_log.player_slot)\n",
    "plt.boxplot(y)\n",
    "plt.show()"
   ]
  },
  {
   "cell_type": "code",
   "execution_count": 209,
   "id": "b504894c",
   "metadata": {},
   "outputs": [
    {
     "data": {
      "text/plain": [
       "count    1.819374e+07\n",
       "mean     2.501832e+04\n",
       "std      1.443447e+04\n",
       "min      0.000000e+00\n",
       "25%      1.252900e+04\n",
       "50%      2.504200e+04\n",
       "75%      3.751800e+04\n",
       "max      4.999900e+04\n",
       "Name: match_id, dtype: float64"
      ]
     },
     "execution_count": 209,
     "metadata": {},
     "output_type": "execute_result"
    }
   ],
   "source": [
    "purchase_log_feature_4.describe()"
   ]
  },
  {
   "cell_type": "code",
   "execution_count": 210,
   "id": "deb6ada2",
   "metadata": {},
   "outputs": [
    {
     "data": {
      "text/plain": [
       "count    539047.000000\n",
       "mean      24981.108779\n",
       "std       14397.043269\n",
       "min           0.000000\n",
       "25%       12515.000000\n",
       "50%       24994.000000\n",
       "75%       37430.000000\n",
       "max       49999.000000\n",
       "Name: match_id, dtype: float64"
      ]
     },
     "execution_count": 210,
     "metadata": {},
     "output_type": "execute_result"
    }
   ],
   "source": [
    "teamfights\n",
    "\n",
    "teamfights_feature_1 = teamfights[\"match_id\"]\n",
    "teamfights_feature_2 = teamfights[\"start\"]\n",
    "teamfights_feature_3 = teamfights[\"end\"]\n",
    "teamfights_feature_4 = teamfights[\"last_death\"]\n",
    "teamfights_feature_5 = teamfights[\"deaths\"]\n",
    "\n",
    "teamfights_feature_1.describe()"
   ]
  },
  {
   "cell_type": "code",
   "execution_count": 211,
   "id": "9979effd",
   "metadata": {
    "scrolled": true
   },
   "outputs": [
    {
     "data": {
      "text/plain": [
       "count    539047.000000\n",
       "mean       1524.624868\n",
       "std         779.104437\n",
       "min         -49.000000\n",
       "25%         923.000000\n",
       "50%        1464.000000\n",
       "75%        2039.000000\n",
       "max       15941.000000\n",
       "Name: start, dtype: float64"
      ]
     },
     "execution_count": 211,
     "metadata": {},
     "output_type": "execute_result"
    }
   ],
   "source": [
    "teamfights_feature_2.describe()"
   ]
  },
  {
   "cell_type": "code",
   "execution_count": 308,
   "id": "e9e0ad0d",
   "metadata": {},
   "outputs": [
    {
     "data": {
      "image/png": "[encoded data removed]",
      "text/plain": [
       "<Figure size 432x288 with 1 Axes>"
      ]
     },
     "metadata": {
      "needs_background": "light"
     },
     "output_type": "display_data"
    }
   ],
   "source": [
    "y = list(teamfights.start)\n",
    "plt.boxplot(y)\n",
    "plt.show()"
   ]
  },
  {
   "cell_type": "code",
   "execution_count": 212,
   "id": "4c40a680",
   "metadata": {},
   "outputs": [
    {
     "data": {
      "text/plain": [
       "count    539047.000000\n",
       "mean       1570.802991\n",
       "std         779.974151\n",
       "min          -1.000000\n",
       "25%         968.000000\n",
       "50%        1510.000000\n",
       "75%        2086.000000\n",
       "max       15979.000000\n",
       "Name: end, dtype: float64"
      ]
     },
     "execution_count": 212,
     "metadata": {},
     "output_type": "execute_result"
    }
   ],
   "source": [
    "teamfights_feature_3.describe()"
   ]
  },
  {
   "cell_type": "code",
   "execution_count": 309,
   "id": "7289b84b",
   "metadata": {},
   "outputs": [
    {
     "data": {
      "image/png": "[encoded data removed]",
      "text/plain": [
       "<Figure size 432x288 with 1 Axes>"
      ]
     },
     "metadata": {
      "needs_background": "light"
     },
     "output_type": "display_data"
    }
   ],
   "source": [
    "y = list(teamfights.end)\n",
    "plt.boxplot(y)\n",
    "plt.show()"
   ]
  },
  {
   "cell_type": "code",
   "execution_count": 213,
   "id": "ba550a06",
   "metadata": {},
   "outputs": [
    {
     "data": {
      "text/plain": [
       "count    539047.000000\n",
       "mean       1555.802991\n",
       "std         779.974151\n",
       "min         -16.000000\n",
       "25%         953.000000\n",
       "50%        1495.000000\n",
       "75%        2071.000000\n",
       "max       15964.000000\n",
       "Name: last_death, dtype: float64"
      ]
     },
     "execution_count": 213,
     "metadata": {},
     "output_type": "execute_result"
    }
   ],
   "source": [
    "teamfights_feature_4.describe() "
   ]
  },
  {
   "cell_type": "code",
   "execution_count": 310,
   "id": "eaf11452",
   "metadata": {},
   "outputs": [
    {
     "data": {
      "image/png": "[encoded data removed]",
      "text/plain": [
       "<Figure size 432x288 with 1 Axes>"
      ]
     },
     "metadata": {
      "needs_background": "light"
     },
     "output_type": "display_data"
    }
   ],
   "source": [
    "y = list(teamfights.last_death)\n",
    "plt.boxplot(y)\n",
    "plt.show()"
   ]
  },
  {
   "cell_type": "code",
   "execution_count": 214,
   "id": "d01d24ed",
   "metadata": {
    "scrolled": true
   },
   "outputs": [
    {
     "data": {
      "text/plain": [
       "count    539047.000000\n",
       "mean          4.324430\n",
       "std           1.522701\n",
       "min           3.000000\n",
       "25%           3.000000\n",
       "50%           4.000000\n",
       "75%           5.000000\n",
       "max          23.000000\n",
       "Name: deaths, dtype: float64"
      ]
     },
     "execution_count": 214,
     "metadata": {},
     "output_type": "execute_result"
    }
   ],
   "source": [
    "teamfights_feature_5.describe()"
   ]
  },
  {
   "cell_type": "code",
   "execution_count": 311,
   "id": "56673250",
   "metadata": {},
   "outputs": [
    {
     "data": {
      "image/png": "[encoded data removed]",
      "text/plain": [
       "<Figure size 432x288 with 1 Axes>"
      ]
     },
     "metadata": {
      "needs_background": "light"
     },
     "output_type": "display_data"
    }
   ],
   "source": [
    "y = list(teamfights.deaths)\n",
    "plt.boxplot(y)\n",
    "plt.show()"
   ]
  },
  {
   "cell_type": "code",
   "execution_count": 215,
   "id": "d3d98d17",
   "metadata": {},
   "outputs": [
    {
     "data": {
      "text/plain": [
       "count    5.390470e+06\n",
       "mean     2.498111e+04\n",
       "std      1.439703e+04\n",
       "min      0.000000e+00\n",
       "25%      1.251500e+04\n",
       "50%      2.499400e+04\n",
       "75%      3.743000e+04\n",
       "max      4.999900e+04\n",
       "Name: match_id, dtype: float64"
      ]
     },
     "execution_count": 215,
     "metadata": {},
     "output_type": "execute_result"
    }
   ],
   "source": [
    "teamfights_players\n",
    "\n",
    "teamfights_players_feature_1 = teamfights_players[\"match_id\"]\n",
    "teamfights_players_feature_2 = teamfights_players[\"player_slot\"]\n",
    "teamfights_players_feature_3 = teamfights_players[\"buybacks\"]\n",
    "teamfights_players_feature_4 = teamfights_players[\"damage\"]\n",
    "teamfights_players_feature_5 = teamfights_players[\"deaths\"]\n",
    "teamfights_players_feature_6 = teamfights_players[\"gold_delta\"]\n",
    "teamfights_players_feature_7 = teamfights_players[\"xp_end\"]\n",
    "teamfights_players_feature_8 = teamfights_players[\"xp_start\"]\n",
    "\n",
    "teamfights_players_feature_1.describe()\n",
    "\n",
    "# test_labels\n",
    "# test_player"
   ]
  },
  {
   "cell_type": "code",
   "execution_count": 216,
   "id": "d85e3c80",
   "metadata": {},
   "outputs": [
    {
     "data": {
      "text/plain": [
       "count    5.390470e+06\n",
       "mean     6.600000e+01\n",
       "std      6.401563e+01\n",
       "min      0.000000e+00\n",
       "25%      2.000000e+00\n",
       "50%      6.600000e+01\n",
       "75%      1.300000e+02\n",
       "max      1.320000e+02\n",
       "Name: player_slot, dtype: float64"
      ]
     },
     "execution_count": 216,
     "metadata": {},
     "output_type": "execute_result"
    }
   ],
   "source": [
    "teamfights_players_feature_2.describe()"
   ]
  },
  {
   "cell_type": "code",
   "execution_count": 312,
   "id": "93eeea24",
   "metadata": {},
   "outputs": [
    {
     "data": {
      "image/png": "[encoded data removed]",
      "text/plain": [
       "<Figure size 432x288 with 1 Axes>"
      ]
     },
     "metadata": {
      "needs_background": "light"
     },
     "output_type": "display_data"
    }
   ],
   "source": [
    "y = list(teamfights_players.player_slot)\n",
    "plt.boxplot(y)\n",
    "plt.show()"
   ]
  },
  {
   "cell_type": "code",
   "execution_count": 217,
   "id": "f9be4270",
   "metadata": {},
   "outputs": [
    {
     "data": {
      "text/plain": [
       "count    5.390470e+06\n",
       "mean     2.276147e-02\n",
       "std      1.491422e-01\n",
       "min      0.000000e+00\n",
       "25%      0.000000e+00\n",
       "50%      0.000000e+00\n",
       "75%      0.000000e+00\n",
       "max      1.000000e+00\n",
       "Name: buybacks, dtype: float64"
      ]
     },
     "execution_count": 217,
     "metadata": {},
     "output_type": "execute_result"
    }
   ],
   "source": [
    "teamfights_players_feature_3.describe()"
   ]
  },
  {
   "cell_type": "code",
   "execution_count": 313,
   "id": "3521f2e4",
   "metadata": {},
   "outputs": [
    {
     "data": {
      "image/png": "[encoded data removed]",
      "text/plain": [
       "<Figure size 432x288 with 1 Axes>"
      ]
     },
     "metadata": {
      "needs_background": "light"
     },
     "output_type": "display_data"
    }
   ],
   "source": [
    "y = list(teamfights_players.buybacks)\n",
    "plt.boxplot(y)\n",
    "plt.show()"
   ]
  },
  {
   "cell_type": "code",
   "execution_count": 218,
   "id": "ea4dae3a",
   "metadata": {},
   "outputs": [
    {
     "data": {
      "text/plain": [
       "count    5.390470e+06\n",
       "mean     1.024086e+03\n",
       "std      1.423389e+03\n",
       "min      0.000000e+00\n",
       "25%      1.480000e+02\n",
       "50%      6.040000e+02\n",
       "75%      1.353000e+03\n",
       "max      8.001000e+04\n",
       "Name: damage, dtype: float64"
      ]
     },
     "execution_count": 218,
     "metadata": {},
     "output_type": "execute_result"
    }
   ],
   "source": [
    "teamfights_players_feature_4.describe()"
   ]
  },
  {
   "cell_type": "code",
   "execution_count": 314,
   "id": "da037545",
   "metadata": {},
   "outputs": [
    {
     "data": {
      "image/png": "[encoded data removed]",
      "text/plain": [
       "<Figure size 432x288 with 1 Axes>"
      ]
     },
     "metadata": {
      "needs_background": "light"
     },
     "output_type": "display_data"
    }
   ],
   "source": [
    "y = list(teamfights_players.damage)\n",
    "plt.boxplot(y)\n",
    "plt.show()"
   ]
  },
  {
   "cell_type": "code",
   "execution_count": 219,
   "id": "519cefba",
   "metadata": {
    "scrolled": true
   },
   "outputs": [
    {
     "data": {
      "text/plain": [
       "count    5.390470e+06\n",
       "mean     4.374474e-01\n",
       "std      5.457010e-01\n",
       "min      0.000000e+00\n",
       "25%      0.000000e+00\n",
       "50%      0.000000e+00\n",
       "75%      1.000000e+00\n",
       "max      1.500000e+01\n",
       "Name: deaths, dtype: float64"
      ]
     },
     "execution_count": 219,
     "metadata": {},
     "output_type": "execute_result"
    }
   ],
   "source": [
    "teamfights_players_feature_5.describe()"
   ]
  },
  {
   "cell_type": "code",
   "execution_count": 315,
   "id": "6274a858",
   "metadata": {},
   "outputs": [
    {
     "data": {
      "image/png": "[encoded data removed]",
      "text/plain": [
       "<Figure size 432x288 with 1 Axes>"
      ]
     },
     "metadata": {
      "needs_background": "light"
     },
     "output_type": "display_data"
    }
   ],
   "source": [
    "y = list(teamfights_players.deaths)\n",
    "plt.boxplot(y)\n",
    "plt.show()"
   ]
  },
  {
   "cell_type": "code",
   "execution_count": 220,
   "id": "00b98408",
   "metadata": {},
   "outputs": [
    {
     "data": {
      "text/plain": [
       "count    5.390470e+06\n",
       "mean     2.580012e+02\n",
       "std      5.787074e+02\n",
       "min     -5.562000e+03\n",
       "25%     -8.900000e+01\n",
       "50%      1.660000e+02\n",
       "75%      5.400000e+02\n",
       "max      4.880000e+04\n",
       "Name: gold_delta, dtype: float64"
      ]
     },
     "execution_count": 220,
     "metadata": {},
     "output_type": "execute_result"
    }
   ],
   "source": [
    "teamfights_players_feature_6.describe()"
   ]
  },
  {
   "cell_type": "code",
   "execution_count": 316,
   "id": "39ee3866",
   "metadata": {},
   "outputs": [
    {
     "data": {
      "image/png": "[encoded data removed]",
      "text/plain": [
       "<Figure size 432x288 with 1 Axes>"
      ]
     },
     "metadata": {
      "needs_background": "light"
     },
     "output_type": "display_data"
    }
   ],
   "source": [
    "y = list(teamfights_players.gold_delta)\n",
    "plt.boxplot(y)\n",
    "plt.show()"
   ]
  },
  {
   "cell_type": "code",
   "execution_count": 221,
   "id": "bf9b91ff",
   "metadata": {
    "scrolled": true
   },
   "outputs": [
    {
     "data": {
      "text/plain": [
       "count    5.390470e+06\n",
       "mean     1.006097e+04\n",
       "std      7.491389e+03\n",
       "min      0.000000e+00\n",
       "25%      4.282000e+03\n",
       "50%      8.207000e+03\n",
       "75%      1.399200e+04\n",
       "max      3.457400e+04\n",
       "Name: xp_start, dtype: float64"
      ]
     },
     "execution_count": 221,
     "metadata": {},
     "output_type": "execute_result"
    }
   ],
   "source": [
    "teamfights_players_feature_7.describe()"
   ]
  },
  {
   "cell_type": "code",
   "execution_count": 317,
   "id": "6a94db5c",
   "metadata": {},
   "outputs": [
    {
     "data": {
      "image/png": "[encoded data removed]",
      "text/plain": [
       "<Figure size 432x288 with 1 Axes>"
      ]
     },
     "metadata": {
      "needs_background": "light"
     },
     "output_type": "display_data"
    }
   ],
   "source": [
    "y = list(teamfights_players.xp_end)\n",
    "plt.boxplot(y)\n",
    "plt.show()"
   ]
  },
  {
   "cell_type": "code",
   "execution_count": 221,
   "id": "0301f1fe",
   "metadata": {
    "scrolled": true
   },
   "outputs": [
    {
     "data": {
      "text/plain": [
       "count    5.390470e+06\n",
       "mean     1.006097e+04\n",
       "std      7.491389e+03\n",
       "min      0.000000e+00\n",
       "25%      4.282000e+03\n",
       "50%      8.207000e+03\n",
       "75%      1.399200e+04\n",
       "max      3.457400e+04\n",
       "Name: xp_start, dtype: float64"
      ]
     },
     "execution_count": 221,
     "metadata": {},
     "output_type": "execute_result"
    }
   ],
   "source": [
    "teamfights_players_feature_7.describe()"
   ]
  },
  {
   "cell_type": "code",
   "execution_count": null,
   "id": "89b986d1",
   "metadata": {},
   "outputs": [],
   "source": [
    "y = list(teamfights_players.xp_end)\n",
    "plt.boxplot(y)\n",
    "plt.show()"
   ]
  },
  {
   "cell_type": "code",
   "execution_count": 222,
   "id": "38e24003",
   "metadata": {},
   "outputs": [
    {
     "data": {
      "text/plain": [
       "count    100000.000000\n",
       "mean      99999.500000\n",
       "std       28867.657797\n",
       "min       50000.000000\n",
       "25%       74999.750000\n",
       "50%       99999.500000\n",
       "75%      124999.250000\n",
       "max      149999.000000\n",
       "Name: match_id, dtype: float64"
      ]
     },
     "execution_count": 222,
     "metadata": {},
     "output_type": "execute_result"
    }
   ],
   "source": [
    "test_labels\n",
    "\n",
    "test_labels_feature_1 = test_labels[\"match_id\"]\n",
    "test_labels_feature_2 = test_labels[\"radiant_win\"]\n",
    "\n",
    "test_labels_feature_1.describe()"
   ]
  },
  {
   "cell_type": "code",
   "execution_count": 223,
   "id": "8b859f80",
   "metadata": {},
   "outputs": [
    {
     "data": {
      "text/plain": [
       "count    100000.000000\n",
       "mean          0.518610\n",
       "std           0.499656\n",
       "min           0.000000\n",
       "25%           0.000000\n",
       "50%           1.000000\n",
       "75%           1.000000\n",
       "max           1.000000\n",
       "Name: radiant_win, dtype: float64"
      ]
     },
     "execution_count": 223,
     "metadata": {},
     "output_type": "execute_result"
    }
   ],
   "source": [
    "test_labels_feature_2.describe()"
   ]
  },
  {
   "cell_type": "code",
   "execution_count": 318,
   "id": "cb0e9c92",
   "metadata": {},
   "outputs": [
    {
     "data": {
      "image/png": "[encoded data removed]",
      "text/plain": [
       "<Figure size 432x288 with 1 Axes>"
      ]
     },
     "metadata": {
      "needs_background": "light"
     },
     "output_type": "display_data"
    }
   ],
   "source": [
    "y = list(test_labels.radiant_win)\n",
    "plt.boxplot(y)\n",
    "plt.show()"
   ]
  },
  {
   "cell_type": "code",
   "execution_count": 230,
   "id": "eafc1613",
   "metadata": {},
   "outputs": [
    {
     "data": {
      "text/plain": [
       "count    1000000.000000\n",
       "mean       99999.500000\n",
       "std        28867.527892\n",
       "min        50000.000000\n",
       "25%        74999.750000\n",
       "50%        99999.500000\n",
       "75%       124999.250000\n",
       "max       149999.000000\n",
       "Name: match_id, dtype: float64"
      ]
     },
     "execution_count": 230,
     "metadata": {},
     "output_type": "execute_result"
    }
   ],
   "source": [
    "test_player\n",
    "\n",
    "test_player_feature_1 = test_player[\"match_id\"]\n",
    "test_player_feature_2 = test_player[\"account_id\"]\n",
    "test_player_feature_3 = test_player[\"hero_id\"]\n",
    "test_player_feature_4 = test_player[\"player_slot\"]\n",
    "\n",
    "test_player_feature_1.describe()"
   ]
  },
  {
   "cell_type": "code",
   "execution_count": 231,
   "id": "44cf9d56",
   "metadata": {},
   "outputs": [
    {
     "data": {
      "text/plain": [
       "count    1000000.000000\n",
       "mean       91028.072414\n",
       "std       103566.804928\n",
       "min            0.000000\n",
       "25%            0.000000\n",
       "50%        39462.500000\n",
       "75%       177762.000000\n",
       "max       330514.000000\n",
       "Name: account_id, dtype: float64"
      ]
     },
     "execution_count": 231,
     "metadata": {},
     "output_type": "execute_result"
    }
   ],
   "source": [
    "test_player_feature_2.describe()"
   ]
  },
  {
   "cell_type": "code",
   "execution_count": 232,
   "id": "3e778f33",
   "metadata": {},
   "outputs": [
    {
     "data": {
      "text/plain": [
       "count    1000000.000000\n",
       "mean          50.960134\n",
       "std           33.229504\n",
       "min            0.000000\n",
       "25%           21.000000\n",
       "50%           48.000000\n",
       "75%           75.000000\n",
       "max          112.000000\n",
       "Name: hero_id, dtype: float64"
      ]
     },
     "execution_count": 232,
     "metadata": {},
     "output_type": "execute_result"
    }
   ],
   "source": [
    "test_player_feature_3.describe()"
   ]
  },
  {
   "cell_type": "code",
   "execution_count": 233,
   "id": "721cc592",
   "metadata": {},
   "outputs": [
    {
     "data": {
      "text/plain": [
       "count    1000000.000000\n",
       "mean          66.000000\n",
       "std           64.015655\n",
       "min            0.000000\n",
       "25%            2.000000\n",
       "50%           66.000000\n",
       "75%          130.000000\n",
       "max          132.000000\n",
       "Name: player_slot, dtype: float64"
      ]
     },
     "execution_count": 233,
     "metadata": {},
     "output_type": "execute_result"
    }
   ],
   "source": [
    "test_player_feature_4.describe()"
   ]
  },
  {
   "cell_type": "code",
   "execution_count": 319,
   "id": "201bffd8",
   "metadata": {},
   "outputs": [
    {
     "data": {
      "image/png": "[encoded data removed]",
      "text/plain": [
       "<Figure size 432x288 with 1 Axes>"
      ]
     },
     "metadata": {
      "needs_background": "light"
     },
     "output_type": "display_data"
    }
   ],
   "source": [
    "y = list(test_player.player_slot)\n",
    "plt.boxplot(y)\n",
    "plt.show()"
   ]
  },
  {
   "cell_type": "code",
   "execution_count": null,
   "id": "12538098",
   "metadata": {},
   "outputs": [],
   "source": []
  }
 ],
 "metadata": {
  "kernelspec": {
   "display_name": "Python 3 (ipykernel)",
   "language": "python",
   "name": "python3"
  },
  "language_info": {
   "codemirror_mode": {
    "name": "ipython",
    "version": 3
   },
   "file_extension": ".py",
   "mimetype": "text/x-python",
   "name": "python",
   "nbconvert_exporter": "python",
   "pygments_lexer": "ipython3",
   "version": "3.9.7"
  }
 },
 "nbformat": 4,
 "nbformat_minor": 5
}
