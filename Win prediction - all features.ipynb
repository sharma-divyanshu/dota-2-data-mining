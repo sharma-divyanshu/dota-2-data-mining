{
 "cells": [
  {
   "cell_type": "code",
   "execution_count": 3,
   "id": "e7e81954",
   "metadata": {},
   "outputs": [],
   "source": [
    "import numpy as np\n",
    "import pandas as pd\n",
    "\n",
    "data_players = pd.read_csv('datasets/dota-2-matches/players.csv')\n",
    "data_matches = pd.read_csv('datasets/dota-2-matches/match.csv')\n",
    "data_teamfights = pd.read_csv('datasets/dota-2-matches/teamfights.csv')"
   ]
  },
  {
   "cell_type": "markdown",
   "id": "928958cf",
   "metadata": {},
   "source": [
    "**teamfights_players:** Additional information provided for each player in each teamfight. `player_slot` can be used to link this back to `players.csv`\n",
    "\n",
    "**players:** Individual players are identified by `account_id` but there is an option to play anonymously and roughly one third of the `account_id`s are not available. Anonymous users have the value of `0` for `account_id`. Contains totals for kills, deaths, denies, etc. Player action counts are available, and are indicated by variable names beginning with `unit_order_`. Counts for reasons for acquiring or losing gold, and gaining experience, have prefixes `gold_`, and `xp_`."
   ]
  },
  {
   "cell_type": "code",
   "execution_count": 8,
   "id": "563970d5",
   "metadata": {},
   "outputs": [
    {
     "data": {
      "text/plain": [
       "match_id\n",
       "0    [86, 51, 83, 11, 67, 106, 102, 46, 7, 73]\n",
       "1      [7, 82, 71, 39, 21, 73, 22, 5, 67, 106]\n",
       "2      [51, 109, 9, 41, 27, 38, 7, 10, 12, 85]\n",
       "3     [50, 44, 32, 26, 39, 78, 19, 31, 40, 47]\n",
       "4    [8, 39, 55, 87, 69, 101, 100, 22, 67, 21]\n",
       "Name: hero_id, dtype: object"
      ]
     },
     "execution_count": 8,
     "metadata": {},
     "output_type": "execute_result"
    }
   ],
   "source": [
    "#Grouping new data frame by match_id and collection all heroes together than split them by team\n",
    "import time\n",
    "start_time = time.time()\n",
    "\n",
    "dire_data=data_players.groupby('match_id')['hero_id'].apply(list)\n",
    "\n",
    "dire_data.head()\n",
    "\n",
    "def divide_by_team(df, new_df):\n",
    "    for j in range(df.shape[0]):\n",
    "        new_r = list()\n",
    "        for i in range(5):\n",
    "            new_r.append(df[j].pop(df[j].index(df[j][0])))\n",
    "        radiant_items = {\"Radiant_team\": new_r}\n",
    "        new_df = pd.concat([new_df, radiant_items], ignore_index=True) \n",
    "    return new_df\n",
    "\n",
    "\n",
    "radiant_data = pd.DataFrame()\n",
    "radiant_data = divide_by_team(dire_data, radiant_data)#--- 86.03843569755554 seconds ---\n",
    "\n",
    "print(\"--- %s seconds ---\" % (time.time() - start_time))#136.3190200328827 sec for split method"
   ]
  },
  {
   "cell_type": "code",
   "execution_count": null,
   "id": "f2fcc333",
   "metadata": {},
   "outputs": [],
   "source": [
    "#Adding the data into data_matches and dropping the useless columns\n",
    "data_matches['Radiant_team']=radiant_data\n",
    "data_matches['Dire_team']=dire_data\n",
    "data_matches=data_matches.drop(columns=['start_time','duration','game_mode','positive_votes','negative_votes','cluster'])\n",
    "data_matches.columns"
   ]
  },
  {
   "cell_type": "code",
   "execution_count": null,
   "id": "6ce8a81d",
   "metadata": {},
   "outputs": [],
   "source": [
    "#Adding the mean_values of features which would be grouped by match_id\n",
    "def adding_mean_values_of_diff_features_by_team(df,groupby,features,new_df):\n",
    "    for i in range(len(features)):\n",
    "        dire_data=df.groupby(groupby)[features[i]].apply(list)\n",
    "        radiant_data=pd.DataFrame()\n",
    "        radiant_data=divide_by_team(dire_data,radiant_data)\n",
    "        radiant_data=radiant_data['Radiant_team'].apply(lambda x : sum(x)/len(x))\n",
    "        dire_data=dire_data.apply(lambda x :sum(x)/len(x))\n",
    "        new_df[features[i]+'_radiant']=radiant_data\n",
    "        new_df[features[i]+'_dire']=dire_data\n",
    "    return new_df"
   ]
  },
  {
   "cell_type": "code",
   "execution_count": null,
   "id": "afe65d1f",
   "metadata": {},
   "outputs": [],
   "source": [
    "features=['gold_spent','gold_per_min','xp_per_min','kills','deaths','tower_damage','hero_damage']\n",
    "data_matches=adding_mean_values_of_diff_features_by_team(data_players,'match_id',features,data_matches)\n",
    "print(data_matches.head())"
   ]
  },
  {
   "cell_type": "code",
   "execution_count": null,
   "id": "5c5b5b70",
   "metadata": {},
   "outputs": [],
   "source": [
    "import matplotlib.pyplot as plt\n",
    "import seaborn as sns\n",
    "def corr_heatmap(df, digits=3, cmap='coolwarm'):\n",
    "    \"\"\"\n",
    "    Creates a correlation heatmap to easily visualize multicollinearity\n",
    "    that might be present in the dataframe.\n",
    "\n",
    "    Args:\n",
    "        df (DataFrame) : DataFrame with features to check multicollinearity on.\n",
    "        digits (int) : Number of decimal places to display\n",
    "        cmap (str) : Colormap to display correlation range.\n",
    "\n",
    "    Returns:\n",
    "        fig : Matplotlib Figure\n",
    "        ax : Matplotlib Axis\n",
    "    \"\"\"\n",
    "    # Create correlation matrix from dataframe\n",
    "    correl = df.corr().round(digits)\n",
    "    \n",
    "\n",
    "    # Create mask for upper triangle of matrix\n",
    "    mask = np.zeros_like(correl)\n",
    "    \n",
    "    \n",
    "    mask[np.triu_indices_from(mask)] = True\n",
    "    \n",
    "\n",
    "    #Create heatmap correlation matrix\n",
    "    fig, ax = plt.subplots(figsize=((len(df.columns)),(len(df.columns))))\n",
    "    sns.heatmap(correl, annot=True, ax=ax, cmap=cmap, vmin=-1, vmax=1,\\\n",
    "                mask=mask);\n",
    "    return fig, ax\n",
    "corr_heatmap(data_matches)\n",
    "fig, ax = plt.subplots(figsize=(8,6))\n",
    "# sns.histplot(x='blueWins', data=diff_df, hue='blueWins', palette='Set1',bins=(2), kde=False)\n",
    "sns.countplot(x='radiant_win', data=data_matches, hue='radiant_win', palette='cool_r')\n",
    "\n",
    "# Save as image\n",
    "plt.tight_layout()"
   ]
  }
 ],
 "metadata": {
  "kernelspec": {
   "display_name": "venv",
   "language": "python",
   "name": "venv"
  },
  "language_info": {
   "codemirror_mode": {
    "name": "ipython",
    "version": 3
   },
   "file_extension": ".py",
   "mimetype": "text/x-python",
   "name": "python",
   "nbconvert_exporter": "python",
   "pygments_lexer": "ipython3",
   "version": "3.9.7"
  }
 },
 "nbformat": 4,
 "nbformat_minor": 5
}
