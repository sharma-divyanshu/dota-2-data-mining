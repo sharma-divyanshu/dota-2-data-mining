{
 "cells": [
  {
   "cell_type": "markdown",
   "id": "cb2f1a21",
   "metadata": {},
   "source": [
    "The duration of a match helps us infer the play style of the players of a region. Shorter match times may point at a more aggressive compared to a more calculated and slower play style. Different regions of the world differ in this metric in a lot of online games."
   ]
  },
  {
   "cell_type": "code",
   "execution_count": 1,
   "id": "7f19dabc",
   "metadata": {},
   "outputs": [],
   "source": [
    "import pandas as pd\n",
    "import numpy as np\n",
    "import seaborn as sns\n",
    "from matplotlib import pyplot as plt\n",
    "from scipy import stats"
   ]
  },
  {
   "cell_type": "code",
   "execution_count": 2,
   "id": "efeb14b3",
   "metadata": {},
   "outputs": [
    {
     "data": {
      "text/html": [
       "<div>\n",
       "<style scoped>\n",
       "    .dataframe tbody tr th:only-of-type {\n",
       "        vertical-align: middle;\n",
       "    }\n",
       "\n",
       "    .dataframe tbody tr th {\n",
       "        vertical-align: top;\n",
       "    }\n",
       "\n",
       "    .dataframe thead th {\n",
       "        text-align: right;\n",
       "    }\n",
       "</style>\n",
       "<table border=\"1\" class=\"dataframe\">\n",
       "  <thead>\n",
       "    <tr style=\"text-align: right;\">\n",
       "      <th></th>\n",
       "      <th>match_id</th>\n",
       "      <th>start_time</th>\n",
       "      <th>duration</th>\n",
       "      <th>tower_status_radiant</th>\n",
       "      <th>tower_status_dire</th>\n",
       "      <th>barracks_status_dire</th>\n",
       "      <th>barracks_status_radiant</th>\n",
       "      <th>first_blood_time</th>\n",
       "      <th>game_mode</th>\n",
       "      <th>radiant_win</th>\n",
       "      <th>negative_votes</th>\n",
       "      <th>positive_votes</th>\n",
       "      <th>cluster</th>\n",
       "    </tr>\n",
       "  </thead>\n",
       "  <tbody>\n",
       "    <tr>\n",
       "      <th>0</th>\n",
       "      <td>0</td>\n",
       "      <td>1446750112</td>\n",
       "      <td>2375</td>\n",
       "      <td>1982</td>\n",
       "      <td>4</td>\n",
       "      <td>3</td>\n",
       "      <td>63</td>\n",
       "      <td>1</td>\n",
       "      <td>22</td>\n",
       "      <td>True</td>\n",
       "      <td>0</td>\n",
       "      <td>1</td>\n",
       "      <td>155</td>\n",
       "    </tr>\n",
       "    <tr>\n",
       "      <th>1</th>\n",
       "      <td>1</td>\n",
       "      <td>1446753078</td>\n",
       "      <td>2582</td>\n",
       "      <td>0</td>\n",
       "      <td>1846</td>\n",
       "      <td>63</td>\n",
       "      <td>0</td>\n",
       "      <td>221</td>\n",
       "      <td>22</td>\n",
       "      <td>False</td>\n",
       "      <td>0</td>\n",
       "      <td>2</td>\n",
       "      <td>154</td>\n",
       "    </tr>\n",
       "    <tr>\n",
       "      <th>2</th>\n",
       "      <td>2</td>\n",
       "      <td>1446764586</td>\n",
       "      <td>2716</td>\n",
       "      <td>256</td>\n",
       "      <td>1972</td>\n",
       "      <td>63</td>\n",
       "      <td>48</td>\n",
       "      <td>190</td>\n",
       "      <td>22</td>\n",
       "      <td>False</td>\n",
       "      <td>0</td>\n",
       "      <td>0</td>\n",
       "      <td>132</td>\n",
       "    </tr>\n",
       "    <tr>\n",
       "      <th>3</th>\n",
       "      <td>3</td>\n",
       "      <td>1446765723</td>\n",
       "      <td>3085</td>\n",
       "      <td>4</td>\n",
       "      <td>1924</td>\n",
       "      <td>51</td>\n",
       "      <td>3</td>\n",
       "      <td>40</td>\n",
       "      <td>22</td>\n",
       "      <td>False</td>\n",
       "      <td>0</td>\n",
       "      <td>0</td>\n",
       "      <td>191</td>\n",
       "    </tr>\n",
       "    <tr>\n",
       "      <th>4</th>\n",
       "      <td>4</td>\n",
       "      <td>1446796385</td>\n",
       "      <td>1887</td>\n",
       "      <td>2047</td>\n",
       "      <td>0</td>\n",
       "      <td>0</td>\n",
       "      <td>63</td>\n",
       "      <td>58</td>\n",
       "      <td>22</td>\n",
       "      <td>True</td>\n",
       "      <td>0</td>\n",
       "      <td>0</td>\n",
       "      <td>156</td>\n",
       "    </tr>\n",
       "  </tbody>\n",
       "</table>\n",
       "</div>"
      ],
      "text/plain": [
       "   match_id  start_time  duration  tower_status_radiant  tower_status_dire  \\\n",
       "0         0  1446750112      2375                  1982                  4   \n",
       "1         1  1446753078      2582                     0               1846   \n",
       "2         2  1446764586      2716                   256               1972   \n",
       "3         3  1446765723      3085                     4               1924   \n",
       "4         4  1446796385      1887                  2047                  0   \n",
       "\n",
       "   barracks_status_dire  barracks_status_radiant  first_blood_time  game_mode  \\\n",
       "0                     3                       63                 1         22   \n",
       "1                    63                        0               221         22   \n",
       "2                    63                       48               190         22   \n",
       "3                    51                        3                40         22   \n",
       "4                     0                       63                58         22   \n",
       "\n",
       "   radiant_win  negative_votes  positive_votes  cluster  \n",
       "0         True               0               1      155  \n",
       "1        False               0               2      154  \n",
       "2        False               0               0      132  \n",
       "3        False               0               0      191  \n",
       "4         True               0               0      156  "
      ]
     },
     "execution_count": 2,
     "metadata": {},
     "output_type": "execute_result"
    }
   ],
   "source": [
    "matches = pd.read_csv('datasets/dota-2-matches/match.csv')\n",
    "\n",
    "matches.head()"
   ]
  },
  {
   "cell_type": "code",
   "execution_count": 3,
   "id": "07de346c",
   "metadata": {},
   "outputs": [
    {
     "data": {
      "text/html": [
       "<div>\n",
       "<style scoped>\n",
       "    .dataframe tbody tr th:only-of-type {\n",
       "        vertical-align: middle;\n",
       "    }\n",
       "\n",
       "    .dataframe tbody tr th {\n",
       "        vertical-align: top;\n",
       "    }\n",
       "\n",
       "    .dataframe thead th {\n",
       "        text-align: right;\n",
       "    }\n",
       "</style>\n",
       "<table border=\"1\" class=\"dataframe\">\n",
       "  <thead>\n",
       "    <tr style=\"text-align: right;\">\n",
       "      <th></th>\n",
       "      <th>duration</th>\n",
       "      <th>game_mode</th>\n",
       "      <th>date</th>\n",
       "      <th>region</th>\n",
       "    </tr>\n",
       "  </thead>\n",
       "  <tbody>\n",
       "    <tr>\n",
       "      <th>0</th>\n",
       "      <td>39.583333</td>\n",
       "      <td>22</td>\n",
       "      <td>2015-11-05 19:01:52</td>\n",
       "      <td>SINGAPORE</td>\n",
       "    </tr>\n",
       "    <tr>\n",
       "      <th>1</th>\n",
       "      <td>43.033333</td>\n",
       "      <td>22</td>\n",
       "      <td>2015-11-05 19:51:18</td>\n",
       "      <td>SINGAPORE</td>\n",
       "    </tr>\n",
       "    <tr>\n",
       "      <th>2</th>\n",
       "      <td>45.266667</td>\n",
       "      <td>22</td>\n",
       "      <td>2015-11-05 23:03:06</td>\n",
       "      <td>EUROPE</td>\n",
       "    </tr>\n",
       "    <tr>\n",
       "      <th>3</th>\n",
       "      <td>51.416667</td>\n",
       "      <td>22</td>\n",
       "      <td>2015-11-05 23:22:03</td>\n",
       "      <td>AUSTRIA</td>\n",
       "    </tr>\n",
       "    <tr>\n",
       "      <th>4</th>\n",
       "      <td>31.450000</td>\n",
       "      <td>22</td>\n",
       "      <td>2015-11-06 07:53:05</td>\n",
       "      <td>SINGAPORE</td>\n",
       "    </tr>\n",
       "  </tbody>\n",
       "</table>\n",
       "</div>"
      ],
      "text/plain": [
       "    duration  game_mode                date     region\n",
       "0  39.583333         22 2015-11-05 19:01:52  SINGAPORE\n",
       "1  43.033333         22 2015-11-05 19:51:18  SINGAPORE\n",
       "2  45.266667         22 2015-11-05 23:03:06     EUROPE\n",
       "3  51.416667         22 2015-11-05 23:22:03    AUSTRIA\n",
       "4  31.450000         22 2015-11-06 07:53:05  SINGAPORE"
      ]
     },
     "execution_count": 3,
     "metadata": {},
     "output_type": "execute_result"
    }
   ],
   "source": [
    "# Convert duration from seconds to minutes for readability\n",
    "matches['duration'] = matches['duration'] / 60\n",
    "\n",
    "# Convert Unix timestamp to datetime\n",
    "matches['date'] = pd.to_datetime(matches['start_time'], unit = 's')\n",
    "\n",
    "# Merge the clusters table into the matches\n",
    "clusters = pd.read_csv('datasets/dota-2-matches/cluster_regions.csv')\n",
    "matches =  matches.merge(clusters, on = 'cluster', how = 'left')\n",
    "matches = matches[['duration', 'game_mode', 'date', 'region']]\n",
    "\n",
    "matches.head()"
   ]
  },
  {
   "cell_type": "code",
   "execution_count": 15,
   "id": "c3809013",
   "metadata": {},
   "outputs": [
    {
     "data": {
      "text/plain": [
       "Text(0.5, 1.0, 'Game duration, Median: 40.3, Mean:  41.33')"
      ]
     },
     "execution_count": 15,
     "metadata": {},
     "output_type": "execute_result"
    },
    {
     "data": {
      "image/png": "[encoded data removed]",
      "text/plain": [
       "<Figure size 432x288 with 1 Axes>"
      ]
     },
     "metadata": {
      "needs_background": "light"
     },
     "output_type": "display_data"
    }
   ],
   "source": [
    "sns.histplot(data=matches, x='duration', bins=30)\n",
    "median_duration = matches['duration'].median()\n",
    "mean_duration = matches['duration'].mean()\n",
    "\n",
    "plt.axvline(x=median_duration, color='red')\n",
    "plt.title(f\"Game duration, Median: {median_duration}, Mean: {mean_duration: 0.2f}\")"
   ]
  },
  {
   "cell_type": "code",
   "execution_count": 5,
   "id": "4a2e776c",
   "metadata": {},
   "outputs": [
    {
     "data": {
      "text/plain": [
       "Text(0.5, 1.0, 'Player concentration across regions')"
      ]
     },
     "execution_count": 5,
     "metadata": {},
     "output_type": "execute_result"
    },
    {
     "data": {
      "image/png": "[encoded data removed]",
      "text/plain": [
       "<Figure size 432x288 with 1 Axes>"
      ]
     },
     "metadata": {
      "needs_background": "light"
     },
     "output_type": "display_data"
    }
   ],
   "source": [
    "matches['region'].value_counts().plot(kind = 'bar').set_title('Player concentration across regions')"
   ]
  },
  {
   "cell_type": "markdown",
   "id": "5de07f0e",
   "metadata": {},
   "source": [
    "Selecting the top regions for analysis"
   ]
  },
  {
   "cell_type": "code",
   "execution_count": 6,
   "id": "2768ec89",
   "metadata": {},
   "outputs": [],
   "source": [
    "# Drop any region outside of the ones we are interested in\n",
    "regions_to_keep = ['EUROPE', 'US EAST', 'SINGAPORE', 'US WEST', 'AUSTRALIA']\n",
    "\n",
    "matches.drop(matches[ ~matches['region'].isin(regions_to_keep)].index, inplace = True)"
   ]
  },
  {
   "cell_type": "code",
   "execution_count": 7,
   "id": "952aaa09",
   "metadata": {},
   "outputs": [
    {
     "data": {
      "text/plain": [
       "<AxesSubplot:title={'center':'Boxplot: Match durations across regions'}, xlabel='region', ylabel='duration'>"
      ]
     },
     "execution_count": 7,
     "metadata": {},
     "output_type": "execute_result"
    },
    {
     "data": {
      "image/png": "[encoded data removed]",
      "text/plain": [
       "<Figure size 720x576 with 1 Axes>"
      ]
     },
     "metadata": {
      "needs_background": "light"
     },
     "output_type": "display_data"
    }
   ],
   "source": [
    "plt.figure(figsize=(10,8))\n",
    "plt.title(\"Boxplot: Match durations across regions\")\n",
    "sns.boxplot(x = 'region', y = 'duration', data=matches, palette='mako')"
   ]
  },
  {
   "cell_type": "markdown",
   "id": "0aaf6a09",
   "metadata": {},
   "source": [
    "Distribution of match durations across regions"
   ]
  },
  {
   "cell_type": "code",
   "execution_count": 8,
   "id": "ca354421",
   "metadata": {
    "scrolled": false
   },
   "outputs": [
    {
     "name": "stdout",
     "output_type": "stream",
     "text": [
      "--- Match Duration Globally ---\n"
     ]
    },
    {
     "data": {
      "image/png": "[encoded data removed]",
      "text/plain": [
       "<Figure size 720x720 with 6 Axes>"
      ]
     },
     "metadata": {
      "needs_background": "light"
     },
     "output_type": "display_data"
    }
   ],
   "source": [
    "print('--- Match Duration Globally ---')\n",
    "matches['duration'].hist(by = matches['region'], figsize = (10,10), sharex=True, color='lightseagreen')\n",
    "plt.show()"
   ]
  },
  {
   "cell_type": "code",
   "execution_count": 9,
   "id": "93c26ffc",
   "metadata": {},
   "outputs": [
    {
     "data": {
      "text/plain": [
       "region\n",
       "AUSTRALIA    41.542880\n",
       "EUROPE       41.083155\n",
       "SINGAPORE    41.815132\n",
       "US EAST      41.191995\n",
       "US WEST      41.773940\n",
       "Name: duration, dtype: float64"
      ]
     },
     "execution_count": 9,
     "metadata": {},
     "output_type": "execute_result"
    }
   ],
   "source": [
    "matches.groupby('region')['duration'].mean()"
   ]
  },
  {
   "cell_type": "markdown",
   "id": "202e50c3",
   "metadata": {},
   "source": [
    "We can see minor differences in the distribution of durations across regions. To test the statistical significance of these results, we can perform a pairwise t-test for the following hypothesis:\n",
    "\n",
    "$H_o$: The duration distribution means across regions are the same\n",
    "\n",
    "$H_a$: The durations across regions are different"
   ]
  },
  {
   "cell_type": "code",
   "execution_count": 10,
   "id": "39e62e54",
   "metadata": {},
   "outputs": [],
   "source": [
    "import itertools\n",
    "\n",
    "durations_by_region = []\n",
    "for region in regions_to_keep:\n",
    "    durations_by_region.append(matches[matches['region'] == region]['duration'])\n",
    "\n",
    "regions = itertools.permutations(regions_to_keep, 2)\n",
    "\n",
    "regions_duration = pd.DataFrame(columns=['region_1', 'region_2', 't_statistic', 'p_value'])\n",
    "\n",
    "for r1, r2 in regions:\n",
    "    max_len = min(len(matches[matches['region'] == r1]), len(matches[matches['region'] == r2]))\n",
    "    T, p = stats.ttest_ind(matches[matches['region'] == r1]['duration'][:max_len], \n",
    "                           matches[matches['region'] == r2]['duration'][:max_len], equal_var=False)\n",
    "    regions_duration.loc[len(regions_duration.index)] = [r1, r2, T, p]"
   ]
  },
  {
   "cell_type": "markdown",
   "id": "6a569c72",
   "metadata": {},
   "source": [
    "Get regions with statistically significant mean values"
   ]
  },
  {
   "cell_type": "code",
   "execution_count": 27,
   "id": "3b0036c6",
   "metadata": {},
   "outputs": [
    {
     "data": {
      "text/html": [
       "<div>\n",
       "<style scoped>\n",
       "    .dataframe tbody tr th:only-of-type {\n",
       "        vertical-align: middle;\n",
       "    }\n",
       "\n",
       "    .dataframe tbody tr th {\n",
       "        vertical-align: top;\n",
       "    }\n",
       "\n",
       "    .dataframe thead th {\n",
       "        text-align: right;\n",
       "    }\n",
       "</style>\n",
       "<table border=\"1\" class=\"dataframe\">\n",
       "  <thead>\n",
       "    <tr style=\"text-align: right;\">\n",
       "      <th></th>\n",
       "      <th>region_1</th>\n",
       "      <th>region_2</th>\n",
       "      <th>t_statistic</th>\n",
       "      <th>p_value</th>\n",
       "    </tr>\n",
       "  </thead>\n",
       "  <tbody>\n",
       "    <tr>\n",
       "      <th>0</th>\n",
       "      <td>EUROPE</td>\n",
       "      <td>US EAST</td>\n",
       "      <td>-1.906170</td>\n",
       "      <td>5.664125e-02</td>\n",
       "    </tr>\n",
       "    <tr>\n",
       "      <th>1</th>\n",
       "      <td>EUROPE</td>\n",
       "      <td>SINGAPORE</td>\n",
       "      <td>-5.722863</td>\n",
       "      <td>1.066483e-08</td>\n",
       "    </tr>\n",
       "    <tr>\n",
       "      <th>2</th>\n",
       "      <td>EUROPE</td>\n",
       "      <td>US WEST</td>\n",
       "      <td>-4.193992</td>\n",
       "      <td>2.772270e-05</td>\n",
       "    </tr>\n",
       "    <tr>\n",
       "      <th>3</th>\n",
       "      <td>EUROPE</td>\n",
       "      <td>AUSTRALIA</td>\n",
       "      <td>-1.875495</td>\n",
       "      <td>6.078261e-02</td>\n",
       "    </tr>\n",
       "    <tr>\n",
       "      <th>5</th>\n",
       "      <td>US EAST</td>\n",
       "      <td>SINGAPORE</td>\n",
       "      <td>-4.084156</td>\n",
       "      <td>4.445571e-05</td>\n",
       "    </tr>\n",
       "    <tr>\n",
       "      <th>6</th>\n",
       "      <td>US EAST</td>\n",
       "      <td>US WEST</td>\n",
       "      <td>-2.267031</td>\n",
       "      <td>2.341653e-02</td>\n",
       "    </tr>\n",
       "    <tr>\n",
       "      <th>7</th>\n",
       "      <td>US EAST</td>\n",
       "      <td>AUSTRALIA</td>\n",
       "      <td>-1.726790</td>\n",
       "      <td>8.426685e-02</td>\n",
       "    </tr>\n",
       "    <tr>\n",
       "      <th>10</th>\n",
       "      <td>SINGAPORE</td>\n",
       "      <td>US WEST</td>\n",
       "      <td>-0.061228</td>\n",
       "      <td>9.511791e-01</td>\n",
       "    </tr>\n",
       "    <tr>\n",
       "      <th>11</th>\n",
       "      <td>SINGAPORE</td>\n",
       "      <td>AUSTRALIA</td>\n",
       "      <td>0.599267</td>\n",
       "      <td>5.490225e-01</td>\n",
       "    </tr>\n",
       "    <tr>\n",
       "      <th>15</th>\n",
       "      <td>US WEST</td>\n",
       "      <td>AUSTRALIA</td>\n",
       "      <td>0.257338</td>\n",
       "      <td>7.969283e-01</td>\n",
       "    </tr>\n",
       "  </tbody>\n",
       "</table>\n",
       "</div>"
      ],
      "text/plain": [
       "     region_1   region_2  t_statistic       p_value\n",
       "0      EUROPE    US EAST    -1.906170  5.664125e-02\n",
       "1      EUROPE  SINGAPORE    -5.722863  1.066483e-08\n",
       "2      EUROPE    US WEST    -4.193992  2.772270e-05\n",
       "3      EUROPE  AUSTRALIA    -1.875495  6.078261e-02\n",
       "5     US EAST  SINGAPORE    -4.084156  4.445571e-05\n",
       "6     US EAST    US WEST    -2.267031  2.341653e-02\n",
       "7     US EAST  AUSTRALIA    -1.726790  8.426685e-02\n",
       "10  SINGAPORE    US WEST    -0.061228  9.511791e-01\n",
       "11  SINGAPORE  AUSTRALIA     0.599267  5.490225e-01\n",
       "15    US WEST  AUSTRALIA     0.257338  7.969283e-01"
      ]
     },
     "execution_count": 27,
     "metadata": {},
     "output_type": "execute_result"
    }
   ],
   "source": [
    "regions_duration.iloc[[0,1,2,3,5,6,7,10,11,15],:]"
   ]
  },
  {
   "cell_type": "code",
   "execution_count": 12,
   "id": "6f8f4a08",
   "metadata": {},
   "outputs": [
    {
     "data": {
      "text/plain": [
       "<AxesSubplot:xlabel='t_statistic', ylabel='p_value'>"
      ]
     },
     "execution_count": 12,
     "metadata": {},
     "output_type": "execute_result"
    },
    {
     "data": {
      "image/png": "[encoded data removed]",
      "text/plain": [
       "<Figure size 432x288 with 1 Axes>"
      ]
     },
     "metadata": {
      "needs_background": "light"
     },
     "output_type": "display_data"
    }
   ],
   "source": [
    "sns.scatterplot(x='t_statistic', y='p_value', data=regions_duration, hue='region_1', palette='mako')"
   ]
  },
  {
   "cell_type": "markdown",
   "id": "2e668c7b",
   "metadata": {},
   "source": [
    "As we can see, the deviation is most significant for `SINGAPORE` and `AUSTRALIA` regions compared to other regions. We can infer that match durations are significantly longer for players in the `AUSTRALIA` and `SINGAPORE` region than any other top region in the world, which could mean they opt for a more slow and calculated strategy compared to the rest of the world. Compared to that, the duration for `EUROPE` and `US EAST` regions is the lowest, hinting towards a faster play style."
   ]
  }
 ],
 "metadata": {
  "kernelspec": {
   "display_name": "venv",
   "language": "python",
   "name": "venv"
  },
  "language_info": {
   "codemirror_mode": {
    "name": "ipython",
    "version": 3
   },
   "file_extension": ".py",
   "mimetype": "text/x-python",
   "name": "python",
   "nbconvert_exporter": "python",
   "pygments_lexer": "ipython3",
   "version": "3.9.7"
  }
 },
 "nbformat": 4,
 "nbformat_minor": 5
}
