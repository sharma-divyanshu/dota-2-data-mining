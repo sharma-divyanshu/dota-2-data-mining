{
 "cells": [
  {
   "cell_type": "code",
   "execution_count": 1,
   "id": "39e2a4e2",
   "metadata": {},
   "outputs": [],
   "source": [
    "import matplotlib.pyplot as plt\n",
    "import sklearn\n",
    "import pandas as pd\n",
    "import seaborn as sbn\n",
    "import numpy as np\n",
    "from sklearn.neighbors import KNeighborsClassifier\n",
    "from sklearn.model_selection import cross_val_score, train_test_split\n",
    "from sklearn.preprocessing import StandardScaler\n",
    "from sklearn.pipeline import make_pipeline\n",
    "from sklearn.metrics import mean_squared_error, r2_score\n"
   ]
  },
  {
   "cell_type": "code",
   "execution_count": 2,
   "id": "5f438864",
   "metadata": {},
   "outputs": [
    {
     "data": {
      "text/html": [
       "<div>\n",
       "<style scoped>\n",
       "    .dataframe tbody tr th:only-of-type {\n",
       "        vertical-align: middle;\n",
       "    }\n",
       "\n",
       "    .dataframe tbody tr th {\n",
       "        vertical-align: top;\n",
       "    }\n",
       "\n",
       "    .dataframe thead th {\n",
       "        text-align: right;\n",
       "    }\n",
       "</style>\n",
       "<table border=\"1\" class=\"dataframe\">\n",
       "  <thead>\n",
       "    <tr style=\"text-align: right;\">\n",
       "      <th></th>\n",
       "      <th>account_id</th>\n",
       "      <th>total_wins</th>\n",
       "      <th>total_matches</th>\n",
       "      <th>trueskill_mu</th>\n",
       "      <th>trueskill_sigma</th>\n",
       "    </tr>\n",
       "  </thead>\n",
       "  <tbody>\n",
       "    <tr>\n",
       "      <th>count</th>\n",
       "      <td>8.342260e+05</td>\n",
       "      <td>8.342260e+05</td>\n",
       "      <td>8.342260e+05</td>\n",
       "      <td>834226.000000</td>\n",
       "      <td>834226.000000</td>\n",
       "    </tr>\n",
       "    <tr>\n",
       "      <th>mean</th>\n",
       "      <td>-9.225868e+07</td>\n",
       "      <td>5.479852e+00</td>\n",
       "      <td>1.095979e+01</td>\n",
       "      <td>25.112577</td>\n",
       "      <td>7.270275</td>\n",
       "    </tr>\n",
       "    <tr>\n",
       "      <th>std</th>\n",
       "      <td>8.103222e+07</td>\n",
       "      <td>1.760984e+03</td>\n",
       "      <td>3.629559e+03</td>\n",
       "      <td>3.231603</td>\n",
       "      <td>1.128826</td>\n",
       "    </tr>\n",
       "    <tr>\n",
       "      <th>min</th>\n",
       "      <td>-2.991940e+08</td>\n",
       "      <td>0.000000e+00</td>\n",
       "      <td>1.000000e+00</td>\n",
       "      <td>4.993478</td>\n",
       "      <td>1.404098</td>\n",
       "    </tr>\n",
       "    <tr>\n",
       "      <th>25%</th>\n",
       "      <td>-1.499249e+08</td>\n",
       "      <td>0.000000e+00</td>\n",
       "      <td>1.000000e+00</td>\n",
       "      <td>22.906655</td>\n",
       "      <td>6.957458</td>\n",
       "    </tr>\n",
       "    <tr>\n",
       "      <th>50%</th>\n",
       "      <td>-9.585022e+07</td>\n",
       "      <td>1.000000e+00</td>\n",
       "      <td>2.000000e+00</td>\n",
       "      <td>25.018193</td>\n",
       "      <td>7.732504</td>\n",
       "    </tr>\n",
       "    <tr>\n",
       "      <th>75%</th>\n",
       "      <td>4.883475e+04</td>\n",
       "      <td>3.000000e+00</td>\n",
       "      <td>6.000000e+00</td>\n",
       "      <td>27.240350</td>\n",
       "      <td>8.058739</td>\n",
       "    </tr>\n",
       "    <tr>\n",
       "      <th>max</th>\n",
       "      <td>3.305130e+05</td>\n",
       "      <td>1.608398e+06</td>\n",
       "      <td>3.315071e+06</td>\n",
       "      <td>48.825892</td>\n",
       "      <td>8.333689</td>\n",
       "    </tr>\n",
       "  </tbody>\n",
       "</table>\n",
       "</div>"
      ],
      "text/plain": [
       "         account_id    total_wins  total_matches   trueskill_mu  \\\n",
       "count  8.342260e+05  8.342260e+05   8.342260e+05  834226.000000   \n",
       "mean  -9.225868e+07  5.479852e+00   1.095979e+01      25.112577   \n",
       "std    8.103222e+07  1.760984e+03   3.629559e+03       3.231603   \n",
       "min   -2.991940e+08  0.000000e+00   1.000000e+00       4.993478   \n",
       "25%   -1.499249e+08  0.000000e+00   1.000000e+00      22.906655   \n",
       "50%   -9.585022e+07  1.000000e+00   2.000000e+00      25.018193   \n",
       "75%    4.883475e+04  3.000000e+00   6.000000e+00      27.240350   \n",
       "max    3.305130e+05  1.608398e+06   3.315071e+06      48.825892   \n",
       "\n",
       "       trueskill_sigma  \n",
       "count    834226.000000  \n",
       "mean          7.270275  \n",
       "std           1.128826  \n",
       "min           1.404098  \n",
       "25%           6.957458  \n",
       "50%           7.732504  \n",
       "75%           8.058739  \n",
       "max           8.333689  "
      ]
     },
     "execution_count": 2,
     "metadata": {},
     "output_type": "execute_result"
    }
   ],
   "source": [
    "player_ratings = pd.read_csv('.\\data\\player_ratings.csv')\n",
    "player_ratings.describe()"
   ]
  },
  {
   "cell_type": "markdown",
   "id": "c77e0f41",
   "metadata": {},
   "source": [
    "Player rating is based on trueskill_mu, which is the skill, where the higher the rating value the better. The trueskill_sigma is the uncertainty of the rating. Calculated the ratings on 900k mathces which occured prior to other uploaded datasets on kaggle."
   ]
  },
  {
   "cell_type": "code",
   "execution_count": 3,
   "id": "f09fd5d6",
   "metadata": {},
   "outputs": [
    {
     "data": {
      "text/plain": [
       "count    834226.000000\n",
       "mean         25.112577\n",
       "std           3.231603\n",
       "min           4.993478\n",
       "25%          22.906655\n",
       "50%          25.018193\n",
       "75%          27.240350\n",
       "max          48.825892\n",
       "Name: trueskill_mu, dtype: float64"
      ]
     },
     "execution_count": 3,
     "metadata": {},
     "output_type": "execute_result"
    }
   ],
   "source": [
    "player_ratings['trueskill_mu'].describe()"
   ]
  },
  {
   "cell_type": "markdown",
   "id": "b3c45f5f",
   "metadata": {},
   "source": [
    "The players skill level in this data set ranges from 4.99 to 48.8, with the mean skill level of 25"
   ]
  },
  {
   "cell_type": "code",
   "execution_count": 4,
   "id": "7400e3b3",
   "metadata": {},
   "outputs": [
    {
     "data": {
      "text/html": [
       "<div>\n",
       "<style scoped>\n",
       "    .dataframe tbody tr th:only-of-type {\n",
       "        vertical-align: middle;\n",
       "    }\n",
       "\n",
       "    .dataframe tbody tr th {\n",
       "        vertical-align: top;\n",
       "    }\n",
       "\n",
       "    .dataframe thead th {\n",
       "        text-align: right;\n",
       "    }\n",
       "</style>\n",
       "<table border=\"1\" class=\"dataframe\">\n",
       "  <thead>\n",
       "    <tr style=\"text-align: right;\">\n",
       "      <th></th>\n",
       "      <th>total_wins</th>\n",
       "      <th>total_matches</th>\n",
       "      <th>trueskill_mu</th>\n",
       "      <th>skill_labels</th>\n",
       "      <th>win_rate</th>\n",
       "    </tr>\n",
       "  </thead>\n",
       "  <tbody>\n",
       "    <tr>\n",
       "      <th>0</th>\n",
       "      <td>14</td>\n",
       "      <td>24</td>\n",
       "      <td>27.868035</td>\n",
       "      <td>2</td>\n",
       "      <td>0.583333</td>\n",
       "    </tr>\n",
       "    <tr>\n",
       "      <th>1</th>\n",
       "      <td>1</td>\n",
       "      <td>1</td>\n",
       "      <td>26.544163</td>\n",
       "      <td>1</td>\n",
       "      <td>1.000000</td>\n",
       "    </tr>\n",
       "    <tr>\n",
       "      <th>2</th>\n",
       "      <td>1</td>\n",
       "      <td>1</td>\n",
       "      <td>26.521103</td>\n",
       "      <td>1</td>\n",
       "      <td>1.000000</td>\n",
       "    </tr>\n",
       "    <tr>\n",
       "      <th>3</th>\n",
       "      <td>1</td>\n",
       "      <td>1</td>\n",
       "      <td>27.248025</td>\n",
       "      <td>2</td>\n",
       "      <td>1.000000</td>\n",
       "    </tr>\n",
       "    <tr>\n",
       "      <th>4</th>\n",
       "      <td>0</td>\n",
       "      <td>1</td>\n",
       "      <td>22.931016</td>\n",
       "      <td>1</td>\n",
       "      <td>0.000000</td>\n",
       "    </tr>\n",
       "  </tbody>\n",
       "</table>\n",
       "</div>"
      ],
      "text/plain": [
       "   total_wins  total_matches  trueskill_mu skill_labels  win_rate\n",
       "0          14             24     27.868035            2  0.583333\n",
       "1           1              1     26.544163            1  1.000000\n",
       "2           1              1     26.521103            1  1.000000\n",
       "3           1              1     27.248025            2  1.000000\n",
       "4           0              1     22.931016            1  0.000000"
      ]
     },
     "execution_count": 4,
     "metadata": {},
     "output_type": "execute_result"
    }
   ],
   "source": [
    "bins = [0, 22.9,27.24,50]\n",
    "labels = [0,1,2]\n",
    "player_ratings['skill_labels'] = pd.cut(player_ratings['trueskill_mu'], bins = bins, include_lowest=False, right = True,labels = labels) \n",
    "\n",
    "wins_skill = player_ratings.drop(['account_id','trueskill_sigma'],axis=1)\n",
    "wins_skill['win_rate'] = (wins_skill['total_wins'] / wins_skill['total_matches'])\n",
    "wins_skill.head()"
   ]
  },
  {
   "cell_type": "code",
   "execution_count": 5,
   "id": "119698e3",
   "metadata": {},
   "outputs": [
    {
     "data": {
      "text/plain": [
       "Text(0.5, 1.0, 'Wins vs Skill Level')"
      ]
     },
     "execution_count": 5,
     "metadata": {},
     "output_type": "execute_result"
    },
    {
     "data": {
      "image/png": "[encoded data removed]",
      "text/plain": [
       "<Figure size 432x288 with 1 Axes>"
      ]
     },
     "metadata": {
      "needs_background": "light"
     },
     "output_type": "display_data"
    }
   ],
   "source": [
    "scaler = StandardScaler()\n",
    "data = scaler.fit(wins_skill[['total_wins', 'total_matches']])\n",
    "data = scaler.transform(wins_skill[['total_wins', 'total_matches']])\n",
    "data = pd.DataFrame(data=data, columns = (['total_wins','total_matches']))\n",
    "data = data.assign(trueskill_mu = wins_skill['trueskill_mu'], skill_labels = wins_skill['skill_labels'], win_rate = wins_skill['win_rate'])\n",
    "#Removing outlier that threw off the scale of the graph\n",
    "data.drop(data[data['total_wins'] > 800].index, inplace=True)\n",
    "\n",
    "plt.scatter(x = data['trueskill_mu'], y = data['total_wins'])\n",
    "plt.ylabel(\"Standardized Wins\")\n",
    "plt.xlabel(\"Skill Level\")\n",
    "plt.title(\"Wins vs Skill Level\")"
   ]
  },
  {
   "cell_type": "code",
   "execution_count": 36,
   "id": "e59d6d5f",
   "metadata": {},
   "outputs": [
    {
     "data": {
      "text/plain": [
       "Text(0.5, 1.0, 'Total Matches vs Skill Level')"
      ]
     },
     "execution_count": 36,
     "metadata": {},
     "output_type": "execute_result"
    },
    {
     "data": {
      "image/png": "[encoded data removed]",
      "text/plain": [
       "<Figure size 432x288 with 1 Axes>"
      ]
     },
     "metadata": {
      "needs_background": "light"
     },
     "output_type": "display_data"
    }
   ],
   "source": [
    "#Total matches versus skill level\n",
    "plt.scatter(x = data['trueskill_mu'], y = data['total_matches'])\n",
    "plt.ylabel(\"Standardized Total Matches\")\n",
    "plt.xlabel(\"Skill Level\")\n",
    "plt.title(\"Total Matches vs Skill Level\")"
   ]
  },
  {
   "cell_type": "code",
   "execution_count": 6,
   "id": "04426d9a",
   "metadata": {},
   "outputs": [
    {
     "data": {
      "text/plain": [
       "Text(0.5, 1.0, 'Win Rate vs Skill Level')"
      ]
     },
     "execution_count": 6,
     "metadata": {},
     "output_type": "execute_result"
    },
    {
     "data": {
      "image/png": "[encoded data removed]",
      "text/plain": [
       "<Figure size 432x288 with 1 Axes>"
      ]
     },
     "metadata": {
      "needs_background": "light"
     },
     "output_type": "display_data"
    }
   ],
   "source": [
    "#Win rate versus skill level\n",
    "plt.scatter(x = data['trueskill_mu'], y = data['win_rate'])\n",
    "plt.ylabel(\"Standardized Win Rate\")\n",
    "plt.xlabel(\"Skill Level\")\n",
    "plt.title(\"Win Rate vs Skill Level\")"
   ]
  },
  {
   "cell_type": "markdown",
   "id": "6cb46ad8",
   "metadata": {},
   "source": [
    "As we can see the win rate is positively linearly correlated with the skill level. By using the total wins and total matches played, we might be able to predict/classify the skill level of a player"
   ]
  },
  {
   "cell_type": "code",
   "execution_count": 7,
   "id": "9ef9d219",
   "metadata": {},
   "outputs": [],
   "source": [
    "#Training a kNN model with training and testing data\n",
    "X = data[['total_wins', 'total_matches']]\n",
    "y = data['skill_labels']\n",
    "X_train, X_test, y_train, y_test = train_test_split(X, y, test_size = 0.2)"
   ]
  },
  {
   "cell_type": "code",
   "execution_count": 8,
   "id": "b8006dc2",
   "metadata": {},
   "outputs": [
    {
     "name": "stdout",
     "output_type": "stream",
     "text": [
      "0.6769097066139231\n"
     ]
    }
   ],
   "source": [
    "knn = KNeighborsClassifier(n_neighbors=5)\n",
    "knn.fit(X_train,y_train)\n",
    "score = knn.score(X_test, y_test)\n",
    "print(score)"
   ]
  },
  {
   "cell_type": "code",
   "execution_count": 91,
   "id": "ff077a3a",
   "metadata": {},
   "outputs": [
    {
     "name": "stderr",
     "output_type": "stream",
     "text": [
      "C:\\Users\\ruzzo\\anaconda3\\lib\\site-packages\\seaborn\\_decorators.py:36: FutureWarning: Pass the following variables as keyword args: x, y. From version 0.12, the only valid positional argument will be `data`, and passing other arguments without an explicit keyword will result in an error or misinterpretation.\n",
      "  warnings.warn(\n"
     ]
    },
    {
     "data": {
      "image/png": "[encoded data removed]",
      "text/plain": [
       "<Figure size 432x288 with 1 Axes>"
      ]
     },
     "metadata": {
      "needs_background": "light"
     },
     "output_type": "display_data"
    }
   ],
   "source": [
    "from matplotlib.colors import ListedColormap\n",
    "# Create color maps\n",
    "cmap_light = ListedColormap(['#AAFFAA','#00AAFF','#FFAAAA'])\n",
    "cmap_bold = ['g','b','r']\n",
    "\n",
    "# calculate min, max and limits\n",
    "x_min, x_max = X.iloc[:, 0].min(), X.iloc[:, 0].max() -0.01\n",
    "y_min, y_max = X.iloc[:, 1].min(), X.iloc[:, 1].max() \n",
    "xx, yy = np.meshgrid(np.arange(x_min, x_max, 0.02),\n",
    "np.arange(y_min, y_max, 0.02))\n",
    "\n",
    "# predict class using data and kNN classifier\n",
    "Z = knn.predict(np.c_[xx.ravel(), yy.ravel()])\n",
    "\n",
    "# Put the result into a color plot\n",
    "Z = Z.reshape(xx.shape)\n",
    "plt.figure()\n",
    "plt.contourf(xx, yy, Z, cmap=cmap_light)\n",
    "\n",
    "scatter = sbn.scatterplot(X_test.iloc[:, 0], X_test.iloc[:, 1], hue = y_test, palette=cmap_bold, alpha = 1.0, edgecolor='black')\n",
    "plt.xlim(xx.min(), xx.max())\n",
    "plt.ylim(yy.min(), yy.max())\n",
    "plt.title(\"Skill classification (k = 5)\")\n",
    "plt.xlabel('Total Wins')\n",
    "plt.ylabel('Total Matches')\n",
    "plt.show()"
   ]
  },
  {
   "cell_type": "markdown",
   "id": "3b48ae75",
   "metadata": {},
   "source": [
    "The green labels/area represents begginer skill level (bottom quartile), blue represents intermediate, and red represents pro. It appears that beginners dont play that many matches or win many games. Whereas the pro skill level tend to win a higher percentage of games compared ot the other two levels."
   ]
  },
  {
   "cell_type": "code",
   "execution_count": null,
   "id": "95447eeb",
   "metadata": {},
   "outputs": [],
   "source": []
  }
 ],
 "metadata": {
  "kernelspec": {
   "display_name": "Python 3 (ipykernel)",
   "language": "python",
   "name": "python3"
  },
  "language_info": {
   "codemirror_mode": {
    "name": "ipython",
    "version": 3
   },
   "file_extension": ".py",
   "mimetype": "text/x-python",
   "name": "python",
   "nbconvert_exporter": "python",
   "pygments_lexer": "ipython3",
   "version": "3.9.7"
  }
 },
 "nbformat": 4,
 "nbformat_minor": 5
}
