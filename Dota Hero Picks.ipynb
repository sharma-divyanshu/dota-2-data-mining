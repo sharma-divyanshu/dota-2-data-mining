{
 "cells": [
  {
   "cell_type": "code",
   "execution_count": 1,
   "id": "46bff618",
   "metadata": {},
   "outputs": [],
   "source": [
    "import pandas as pd\n",
    "import numpy as np\n",
    "import matplotlib.pyplot as plt\n",
    "import seaborn as sns\n",
    "import json\n",
    "from scipy import stats"
   ]
  },
  {
   "cell_type": "code",
   "execution_count": 2,
   "id": "2ae89059",
   "metadata": {},
   "outputs": [],
   "source": [
    "df = pd.read_csv(\"datasets/picks_data.csv\")\n",
    "\n",
    "heros = {}\n",
    "\n",
    "with open(\"datasets/heros.json\") as hero_ids:\n",
    "    heros_json = json.load(hero_ids)\n",
    "\n",
    "for hero in heros_json:\n",
    "    heros[hero['id']] = hero['name']"
   ]
  },
  {
   "cell_type": "code",
   "execution_count": 3,
   "id": "f12a9797",
   "metadata": {},
   "outputs": [
    {
     "data": {
      "text/html": [
       "<div>\n",
       "<style scoped>\n",
       "    .dataframe tbody tr th:only-of-type {\n",
       "        vertical-align: middle;\n",
       "    }\n",
       "\n",
       "    .dataframe tbody tr th {\n",
       "        vertical-align: top;\n",
       "    }\n",
       "\n",
       "    .dataframe thead th {\n",
       "        text-align: right;\n",
       "    }\n",
       "</style>\n",
       "<table border=\"1\" class=\"dataframe\">\n",
       "  <thead>\n",
       "    <tr style=\"text-align: right;\">\n",
       "      <th></th>\n",
       "      <th>loosing_hero_id_1</th>\n",
       "      <th>loosing_hero_id_2</th>\n",
       "      <th>loosing_hero_id_3</th>\n",
       "      <th>loosing_hero_id_4</th>\n",
       "      <th>loosing_hero_id_5</th>\n",
       "      <th>winning_hero_id_1</th>\n",
       "      <th>winning_hero_id_2</th>\n",
       "      <th>winning_hero_id_3</th>\n",
       "      <th>winning_hero_id_4</th>\n",
       "      <th>winning_hero_id_5</th>\n",
       "    </tr>\n",
       "  </thead>\n",
       "  <tbody>\n",
       "    <tr>\n",
       "      <th>0</th>\n",
       "      <td>18</td>\n",
       "      <td>28</td>\n",
       "      <td>43</td>\n",
       "      <td>75</td>\n",
       "      <td>84</td>\n",
       "      <td>60</td>\n",
       "      <td>71</td>\n",
       "      <td>74</td>\n",
       "      <td>87</td>\n",
       "      <td>93</td>\n",
       "    </tr>\n",
       "    <tr>\n",
       "      <th>1</th>\n",
       "      <td>47</td>\n",
       "      <td>72</td>\n",
       "      <td>78</td>\n",
       "      <td>86</td>\n",
       "      <td>107</td>\n",
       "      <td>11</td>\n",
       "      <td>12</td>\n",
       "      <td>30</td>\n",
       "      <td>38</td>\n",
       "      <td>51</td>\n",
       "    </tr>\n",
       "    <tr>\n",
       "      <th>2</th>\n",
       "      <td>21</td>\n",
       "      <td>51</td>\n",
       "      <td>65</td>\n",
       "      <td>71</td>\n",
       "      <td>73</td>\n",
       "      <td>13</td>\n",
       "      <td>63</td>\n",
       "      <td>66</td>\n",
       "      <td>80</td>\n",
       "      <td>89</td>\n",
       "    </tr>\n",
       "    <tr>\n",
       "      <th>3</th>\n",
       "      <td>11</td>\n",
       "      <td>26</td>\n",
       "      <td>83</td>\n",
       "      <td>93</td>\n",
       "      <td>110</td>\n",
       "      <td>8</td>\n",
       "      <td>22</td>\n",
       "      <td>33</td>\n",
       "      <td>90</td>\n",
       "      <td>97</td>\n",
       "    </tr>\n",
       "    <tr>\n",
       "      <th>4</th>\n",
       "      <td>15</td>\n",
       "      <td>16</td>\n",
       "      <td>21</td>\n",
       "      <td>26</td>\n",
       "      <td>99</td>\n",
       "      <td>7</td>\n",
       "      <td>11</td>\n",
       "      <td>47</td>\n",
       "      <td>93</td>\n",
       "      <td>102</td>\n",
       "    </tr>\n",
       "  </tbody>\n",
       "</table>\n",
       "</div>"
      ],
      "text/plain": [
       "   loosing_hero_id_1  loosing_hero_id_2  loosing_hero_id_3  loosing_hero_id_4  \\\n",
       "0                 18                 28                 43                 75   \n",
       "1                 47                 72                 78                 86   \n",
       "2                 21                 51                 65                 71   \n",
       "3                 11                 26                 83                 93   \n",
       "4                 15                 16                 21                 26   \n",
       "\n",
       "   loosing_hero_id_5  winning_hero_id_1  winning_hero_id_2  winning_hero_id_3  \\\n",
       "0                 84                 60                 71                 74   \n",
       "1                107                 11                 12                 30   \n",
       "2                 73                 13                 63                 66   \n",
       "3                110                  8                 22                 33   \n",
       "4                 99                  7                 11                 47   \n",
       "\n",
       "   winning_hero_id_4  winning_hero_id_5  \n",
       "0                 87                 93  \n",
       "1                 38                 51  \n",
       "2                 80                 89  \n",
       "3                 90                 97  \n",
       "4                 93                102  "
      ]
     },
     "execution_count": 3,
     "metadata": {},
     "output_type": "execute_result"
    }
   ],
   "source": [
    "df.head()"
   ]
  },
  {
   "cell_type": "code",
   "execution_count": 4,
   "id": "ee8bf6a1",
   "metadata": {},
   "outputs": [],
   "source": [
    "losers = df.iloc[:,:5]\n",
    "winners = df.iloc[:,5:]"
   ]
  },
  {
   "cell_type": "code",
   "execution_count": 5,
   "id": "f28e28ba",
   "metadata": {},
   "outputs": [],
   "source": [
    "losers_flattened = losers.to_numpy().flatten()\n",
    "winners_flattened = winners.to_numpy().flatten()"
   ]
  },
  {
   "cell_type": "code",
   "execution_count": 6,
   "id": "4d48b3b5",
   "metadata": {},
   "outputs": [],
   "source": [
    "unique_losers, count_losers = np.unique(losers_flattened, return_counts=True)\n",
    "unique_winners, count_winners = np.unique(winners_flattened, return_counts=True)"
   ]
  },
  {
   "cell_type": "code",
   "execution_count": 7,
   "id": "15436c70",
   "metadata": {},
   "outputs": [
    {
     "data": {
      "text/plain": [
       "True"
      ]
     },
     "execution_count": 7,
     "metadata": {},
     "output_type": "execute_result"
    }
   ],
   "source": [
    "np.all(unique_losers == unique_winners)"
   ]
  },
  {
   "cell_type": "code",
   "execution_count": 8,
   "id": "9cc0905b",
   "metadata": {},
   "outputs": [
    {
     "data": {
      "text/html": [
       "<div>\n",
       "<style scoped>\n",
       "    .dataframe tbody tr th:only-of-type {\n",
       "        vertical-align: middle;\n",
       "    }\n",
       "\n",
       "    .dataframe tbody tr th {\n",
       "        vertical-align: top;\n",
       "    }\n",
       "\n",
       "    .dataframe thead th {\n",
       "        text-align: right;\n",
       "    }\n",
       "</style>\n",
       "<table border=\"1\" class=\"dataframe\">\n",
       "  <thead>\n",
       "    <tr style=\"text-align: right;\">\n",
       "      <th></th>\n",
       "      <th>id</th>\n",
       "      <th>hero</th>\n",
       "      <th>wins</th>\n",
       "      <th>losses</th>\n",
       "      <th>total games</th>\n",
       "      <th>popularity</th>\n",
       "      <th>win rate</th>\n",
       "    </tr>\n",
       "  </thead>\n",
       "  <tbody>\n",
       "    <tr>\n",
       "      <th>0</th>\n",
       "      <td>1</td>\n",
       "      <td>antimage</td>\n",
       "      <td>2485</td>\n",
       "      <td>2574</td>\n",
       "      <td>5059</td>\n",
       "      <td>0.070820</td>\n",
       "      <td>0.491204</td>\n",
       "    </tr>\n",
       "    <tr>\n",
       "      <th>1</th>\n",
       "      <td>2</td>\n",
       "      <td>axe</td>\n",
       "      <td>3094</td>\n",
       "      <td>3375</td>\n",
       "      <td>6469</td>\n",
       "      <td>0.090558</td>\n",
       "      <td>0.478281</td>\n",
       "    </tr>\n",
       "    <tr>\n",
       "      <th>2</th>\n",
       "      <td>3</td>\n",
       "      <td>bane</td>\n",
       "      <td>3086</td>\n",
       "      <td>3070</td>\n",
       "      <td>6156</td>\n",
       "      <td>0.086176</td>\n",
       "      <td>0.501300</td>\n",
       "    </tr>\n",
       "    <tr>\n",
       "      <th>3</th>\n",
       "      <td>4</td>\n",
       "      <td>bloodseeker</td>\n",
       "      <td>1290</td>\n",
       "      <td>1388</td>\n",
       "      <td>2678</td>\n",
       "      <td>0.037489</td>\n",
       "      <td>0.481703</td>\n",
       "    </tr>\n",
       "    <tr>\n",
       "      <th>4</th>\n",
       "      <td>5</td>\n",
       "      <td>crystal_maiden</td>\n",
       "      <td>3784</td>\n",
       "      <td>3616</td>\n",
       "      <td>7400</td>\n",
       "      <td>0.103591</td>\n",
       "      <td>0.511351</td>\n",
       "    </tr>\n",
       "  </tbody>\n",
       "</table>\n",
       "</div>"
      ],
      "text/plain": [
       "   id            hero  wins  losses  total games  popularity  win rate\n",
       "0   1        antimage  2485    2574         5059    0.070820  0.491204\n",
       "1   2             axe  3094    3375         6469    0.090558  0.478281\n",
       "2   3            bane  3086    3070         6156    0.086176  0.501300\n",
       "3   4     bloodseeker  1290    1388         2678    0.037489  0.481703\n",
       "4   5  crystal_maiden  3784    3616         7400    0.103591  0.511351"
      ]
     },
     "execution_count": 8,
     "metadata": {},
     "output_type": "execute_result"
    }
   ],
   "source": [
    "data = pd.DataFrame()\n",
    "data['id'] = unique_losers\n",
    "data['hero'] = [heros[i] for i in unique_losers]\n",
    "data['wins'] = count_winners\n",
    "data['losses'] = count_losers\n",
    "data['total games'] = data['wins'] + data['losses']\n",
    "data['popularity'] = data['total games']/df.shape[0]\n",
    "data['win rate'] = data['wins']/data['total games']\n",
    "data.head()"
   ]
  },
  {
   "cell_type": "markdown",
   "id": "734b679d",
   "metadata": {},
   "source": [
    "Getting the most picked heros gives an insight into the perceived strength of the hero"
   ]
  },
  {
   "cell_type": "code",
   "execution_count": 9,
   "id": "495cc79f",
   "metadata": {},
   "outputs": [
    {
     "data": {
      "text/plain": [
       "<AxesSubplot:title={'center':'Top 20 heros by popularity'}, xlabel='popularity', ylabel='hero'>"
      ]
     },
     "execution_count": 9,
     "metadata": {},
     "output_type": "execute_result"
    },
    {
     "data": {
      "image/png": "[encoded data removed]",
      "text/plain": [
       "<Figure size 720x720 with 1 Axes>"
      ]
     },
     "metadata": {
      "needs_background": "light"
     },
     "output_type": "display_data"
    }
   ],
   "source": [
    "plt.figure(figsize=(10,10))\n",
    "plt.title(\"Top 20 heros by popularity\")\n",
    "sns.barplot(x='popularity', y='hero', palette='Blues_d', data=data.sort_values(by=['popularity'], ascending=False).iloc[0:20])"
   ]
  },
  {
   "cell_type": "code",
   "execution_count": 10,
   "id": "906ea4a8",
   "metadata": {},
   "outputs": [
    {
     "data": {
      "text/plain": [
       "<AxesSubplot:title={'center':'Top 20 heros by win rate'}, xlabel='win rate', ylabel='hero'>"
      ]
     },
     "execution_count": 10,
     "metadata": {},
     "output_type": "execute_result"
    },
    {
     "data": {
      "image/png": "[encoded data removed]",
      "text/plain": [
       "<Figure size 720x720 with 1 Axes>"
      ]
     },
     "metadata": {
      "needs_background": "light"
     },
     "output_type": "display_data"
    }
   ],
   "source": [
    "plt.figure(figsize=(10,10))\n",
    "plt.title(\"Top 20 heros by win rate\")\n",
    "sns.barplot(x='win rate', y='hero', palette='Blues_d', data=data.sort_values(by=['win rate'], ascending=False).iloc[0:20])"
   ]
  },
  {
   "cell_type": "code",
   "execution_count": 11,
   "id": "a7a8950f",
   "metadata": {},
   "outputs": [
    {
     "data": {
      "text/plain": [
       "<AxesSubplot:title={'center':'Correlation matrix'}>"
      ]
     },
     "execution_count": 11,
     "metadata": {},
     "output_type": "execute_result"
    },
    {
     "data": {
      "image/png": "[encoded data removed]",
      "text/plain": [
       "<Figure size 432x288 with 2 Axes>"
      ]
     },
     "metadata": {
      "needs_background": "light"
     },
     "output_type": "display_data"
    }
   ],
   "source": [
    "plt.title(\"Correlation matrix\")\n",
    "sns.heatmap(data.corr())"
   ]
  },
  {
   "cell_type": "code",
   "execution_count": 12,
   "id": "c6766a37",
   "metadata": {},
   "outputs": [
    {
     "data": {
      "text/plain": [
       "(-0.20070485321770554, 0.03304469711580285)"
      ]
     },
     "execution_count": 12,
     "metadata": {},
     "output_type": "execute_result"
    }
   ],
   "source": [
    "stats.pearsonr(data['popularity'], data['win rate'])"
   ]
  },
  {
   "cell_type": "markdown",
   "id": "92fabc97",
   "metadata": {},
   "source": [
    "Based on the Pearson correlation coefficient, we can see that there is a small negative correlation between the hero pick rates (popularity) and the win rate of the hero. This leads us to believe that picking the most popular heros doesn't necessarily add to the win probability. Win rate depends more on the skill of the player and picking the correct counter for the opponent's roster."
   ]
  },
  {
   "cell_type": "code",
   "execution_count": 13,
   "id": "c1166061",
   "metadata": {},
   "outputs": [
    {
     "data": {
      "text/plain": [
       "<seaborn.axisgrid.FacetGrid at 0x7f528c3769a0>"
      ]
     },
     "execution_count": 13,
     "metadata": {},
     "output_type": "execute_result"
    },
    {
     "data": {
      "image/png": "[encoded data removed]",
      "text/plain": [
       "<Figure size 360x360 with 1 Axes>"
      ]
     },
     "metadata": {
      "needs_background": "light"
     },
     "output_type": "display_data"
    }
   ],
   "source": [
    "sns.lmplot(x=\"popularity\", y=\"win rate\", data=data)"
   ]
  },
  {
   "cell_type": "markdown",
   "id": "49dc4fe0",
   "metadata": {},
   "source": [
    "**Getting teams that won the most rounds**"
   ]
  },
  {
   "cell_type": "code",
   "execution_count": 53,
   "id": "e54a58b8",
   "metadata": {},
   "outputs": [
    {
     "data": {
      "text/html": [
       "<div>\n",
       "<style scoped>\n",
       "    .dataframe tbody tr th:only-of-type {\n",
       "        vertical-align: middle;\n",
       "    }\n",
       "\n",
       "    .dataframe tbody tr th {\n",
       "        vertical-align: top;\n",
       "    }\n",
       "\n",
       "    .dataframe thead th {\n",
       "        text-align: right;\n",
       "    }\n",
       "</style>\n",
       "<table border=\"1\" class=\"dataframe\">\n",
       "  <thead>\n",
       "    <tr style=\"text-align: right;\">\n",
       "      <th></th>\n",
       "      <th>hero_1</th>\n",
       "      <th>hero_2</th>\n",
       "      <th>hero_3</th>\n",
       "      <th>hero_4</th>\n",
       "      <th>hero_5</th>\n",
       "      <th>win</th>\n",
       "    </tr>\n",
       "  </thead>\n",
       "  <tbody>\n",
       "    <tr>\n",
       "      <th>0</th>\n",
       "      <td>60</td>\n",
       "      <td>71</td>\n",
       "      <td>74</td>\n",
       "      <td>87</td>\n",
       "      <td>93</td>\n",
       "      <td>1</td>\n",
       "    </tr>\n",
       "    <tr>\n",
       "      <th>1</th>\n",
       "      <td>11</td>\n",
       "      <td>12</td>\n",
       "      <td>30</td>\n",
       "      <td>38</td>\n",
       "      <td>51</td>\n",
       "      <td>1</td>\n",
       "    </tr>\n",
       "    <tr>\n",
       "      <th>2</th>\n",
       "      <td>13</td>\n",
       "      <td>63</td>\n",
       "      <td>66</td>\n",
       "      <td>80</td>\n",
       "      <td>89</td>\n",
       "      <td>1</td>\n",
       "    </tr>\n",
       "    <tr>\n",
       "      <th>3</th>\n",
       "      <td>8</td>\n",
       "      <td>22</td>\n",
       "      <td>33</td>\n",
       "      <td>90</td>\n",
       "      <td>97</td>\n",
       "      <td>1</td>\n",
       "    </tr>\n",
       "    <tr>\n",
       "      <th>4</th>\n",
       "      <td>7</td>\n",
       "      <td>11</td>\n",
       "      <td>47</td>\n",
       "      <td>93</td>\n",
       "      <td>102</td>\n",
       "      <td>1</td>\n",
       "    </tr>\n",
       "  </tbody>\n",
       "</table>\n",
       "</div>"
      ],
      "text/plain": [
       "  hero_1 hero_2 hero_3 hero_4 hero_5 win\n",
       "0     60     71     74     87     93   1\n",
       "1     11     12     30     38     51   1\n",
       "2     13     63     66     80     89   1\n",
       "3      8     22     33     90     97   1\n",
       "4      7     11     47     93    102   1"
      ]
     },
     "execution_count": 53,
     "metadata": {},
     "output_type": "execute_result"
    }
   ],
   "source": [
    "# Restructure dataset and add a win status for each team composition\n",
    "winners_team = winners.rename(columns = {'winning_hero_id_1': 'hero_1', 'winning_hero_id_2': 'hero_2', 'winning_hero_id_3': 'hero_3', 'winning_hero_id_4': 'hero_4', 'winning_hero_id_5': 'hero_5'})\n",
    "winners_team['win'] = 1\n",
    "losers_team = losers.rename(columns = {'loosing_hero_id_1': 'hero_1', 'loosing_hero_id_2': 'hero_2', 'loosing_hero_id_3': 'hero_3', 'loosing_hero_id_4': 'hero_4', 'loosing_hero_id_5': 'hero_5'})\n",
    "losers_team['win'] = 0\n",
    "teams = pd.DataFrame(columns=['hero_1', 'hero_2', 'hero_3', 'hero_4', 'hero_5', 'win'])\n",
    "teams = pd.concat([teams, winners_team, losers_team])\n",
    "teams.head()"
   ]
  },
  {
   "cell_type": "code",
   "execution_count": 54,
   "id": "007c516f",
   "metadata": {},
   "outputs": [],
   "source": [
    "teams = teams.astype('int32')"
   ]
  },
  {
   "cell_type": "code",
   "execution_count": 57,
   "id": "5ceca39b",
   "metadata": {},
   "outputs": [],
   "source": [
    "teams_cumulative = teams.groupby(teams.columns.to_list(), as_index=False).size()"
   ]
  },
  {
   "cell_type": "code",
   "execution_count": 82,
   "id": "3b0ab4f0",
   "metadata": {},
   "outputs": [],
   "source": [
    "winners_cumulative = teams_cumulative[(teams_cumulative['size'] > 1) & (teams_cumulative['win'] == 1)].rename(columns={'size':'wins'})\n",
    "top_10_teams = winners_cumulative.sort_values(by='wins', ascending=False)[:10].drop(['win'], axis=1)"
   ]
  },
  {
   "cell_type": "markdown",
   "id": "8ce77e6d",
   "metadata": {},
   "source": [
    "**Top 10 team compositions based on wins**"
   ]
  },
  {
   "cell_type": "code",
   "execution_count": 83,
   "id": "4a9ff21b",
   "metadata": {},
   "outputs": [
    {
     "data": {
      "text/html": [
       "<div>\n",
       "<style scoped>\n",
       "    .dataframe tbody tr th:only-of-type {\n",
       "        vertical-align: middle;\n",
       "    }\n",
       "\n",
       "    .dataframe tbody tr th {\n",
       "        vertical-align: top;\n",
       "    }\n",
       "\n",
       "    .dataframe thead th {\n",
       "        text-align: right;\n",
       "    }\n",
       "</style>\n",
       "<table border=\"1\" class=\"dataframe\">\n",
       "  <thead>\n",
       "    <tr style=\"text-align: right;\">\n",
       "      <th></th>\n",
       "      <th>hero_1</th>\n",
       "      <th>hero_2</th>\n",
       "      <th>hero_3</th>\n",
       "      <th>hero_4</th>\n",
       "      <th>hero_5</th>\n",
       "      <th>wins</th>\n",
       "    </tr>\n",
       "  </thead>\n",
       "  <tbody>\n",
       "    <tr>\n",
       "      <th>94155</th>\n",
       "      <td>vengefulspirit</td>\n",
       "      <td>witch_doctor</td>\n",
       "      <td>beastmaster</td>\n",
       "      <td>luna</td>\n",
       "      <td>lycan</td>\n",
       "      <td>6</td>\n",
       "    </tr>\n",
       "    <tr>\n",
       "      <th>66195</th>\n",
       "      <td>nevermore</td>\n",
       "      <td>dark_seer</td>\n",
       "      <td>spirit_breaker</td>\n",
       "      <td>gyrocopter</td>\n",
       "      <td>winter_wyvern</td>\n",
       "      <td>4</td>\n",
       "    </tr>\n",
       "    <tr>\n",
       "      <th>129420</th>\n",
       "      <td>faceless_void</td>\n",
       "      <td>rattletrap</td>\n",
       "      <td>ancient_apparition</td>\n",
       "      <td>invoker</td>\n",
       "      <td>nyx_assassin</td>\n",
       "      <td>4</td>\n",
       "    </tr>\n",
       "    <tr>\n",
       "      <th>24870</th>\n",
       "      <td>crystal_maiden</td>\n",
       "      <td>pugna</td>\n",
       "      <td>dragon_knight</td>\n",
       "      <td>furion</td>\n",
       "      <td>abaddon</td>\n",
       "      <td>4</td>\n",
       "    </tr>\n",
       "    <tr>\n",
       "      <th>53112</th>\n",
       "      <td>mirana</td>\n",
       "      <td>tiny</td>\n",
       "      <td>batrider</td>\n",
       "      <td>treant</td>\n",
       "      <td>wisp</td>\n",
       "      <td>4</td>\n",
       "    </tr>\n",
       "    <tr>\n",
       "      <th>114654</th>\n",
       "      <td>slardar</td>\n",
       "      <td>dazzle</td>\n",
       "      <td>night_stalker</td>\n",
       "      <td>abaddon</td>\n",
       "      <td>elder_titan</td>\n",
       "      <td>4</td>\n",
       "    </tr>\n",
       "    <tr>\n",
       "      <th>46716</th>\n",
       "      <td>juggernaut</td>\n",
       "      <td>lion</td>\n",
       "      <td>tidehunter</td>\n",
       "      <td>tinker</td>\n",
       "      <td>skywrath_mage</td>\n",
       "      <td>3</td>\n",
       "    </tr>\n",
       "    <tr>\n",
       "      <th>122513</th>\n",
       "      <td>enigma</td>\n",
       "      <td>templar_assassin</td>\n",
       "      <td>luna</td>\n",
       "      <td>dark_seer</td>\n",
       "      <td>rubick</td>\n",
       "      <td>3</td>\n",
       "    </tr>\n",
       "    <tr>\n",
       "      <th>32632</th>\n",
       "      <td>earthshaker</td>\n",
       "      <td>nevermore</td>\n",
       "      <td>rattletrap</td>\n",
       "      <td>gyrocopter</td>\n",
       "      <td>disruptor</td>\n",
       "      <td>3</td>\n",
       "    </tr>\n",
       "    <tr>\n",
       "      <th>61832</th>\n",
       "      <td>nevermore</td>\n",
       "      <td>puck</td>\n",
       "      <td>night_stalker</td>\n",
       "      <td>jakiro</td>\n",
       "      <td>troll_warlord</td>\n",
       "      <td>3</td>\n",
       "    </tr>\n",
       "  </tbody>\n",
       "</table>\n",
       "</div>"
      ],
      "text/plain": [
       "                hero_1            hero_2              hero_3      hero_4  \\\n",
       "94155   vengefulspirit      witch_doctor         beastmaster        luna   \n",
       "66195        nevermore         dark_seer      spirit_breaker  gyrocopter   \n",
       "129420   faceless_void        rattletrap  ancient_apparition     invoker   \n",
       "24870   crystal_maiden             pugna       dragon_knight      furion   \n",
       "53112           mirana              tiny            batrider      treant   \n",
       "114654         slardar            dazzle       night_stalker     abaddon   \n",
       "46716       juggernaut              lion          tidehunter      tinker   \n",
       "122513          enigma  templar_assassin                luna   dark_seer   \n",
       "32632      earthshaker         nevermore          rattletrap  gyrocopter   \n",
       "61832        nevermore              puck       night_stalker      jakiro   \n",
       "\n",
       "               hero_5  wins  \n",
       "94155           lycan     6  \n",
       "66195   winter_wyvern     4  \n",
       "129420   nyx_assassin     4  \n",
       "24870         abaddon     4  \n",
       "53112            wisp     4  \n",
       "114654    elder_titan     4  \n",
       "46716   skywrath_mage     3  \n",
       "122513         rubick     3  \n",
       "32632       disruptor     3  \n",
       "61832   troll_warlord     3  "
      ]
     },
     "execution_count": 83,
     "metadata": {},
     "output_type": "execute_result"
    }
   ],
   "source": [
    "top_10_teams_names = top_10_teams.replace({\"hero_1\": heros, \"hero_2\": heros, \"hero_3\": heros, \"hero_4\": heros ,\"hero_5\": heros})\n",
    "top_10_teams_names"
   ]
  },
  {
   "cell_type": "markdown",
   "id": "a9ed3301",
   "metadata": {},
   "source": [
    "**Fitting a linear and KNN classifier to predict win/loss based on team composition**"
   ]
  },
  {
   "cell_type": "code",
   "execution_count": 94,
   "id": "80c66ef4",
   "metadata": {},
   "outputs": [
    {
     "data": {
      "text/plain": [
       "0.5032547070763631"
      ]
     },
     "execution_count": 94,
     "metadata": {},
     "output_type": "execute_result"
    }
   ],
   "source": [
    "from sklearn.model_selection import train_test_split\n",
    "from sklearn.linear_model import LogisticRegression\n",
    "\n",
    "X = teams.drop('win', axis=1)\n",
    "y = teams['win']\n",
    "X_train, X_test, y_train, y_test = train_test_split(X, y, test_size=0.3, stratify=y)\n",
    "clf = LogisticRegression(solver='lbfgs', random_state=6220).fit(X_train, y_train)\n",
    "clf.score(X_test, y_test)"
   ]
  },
  {
   "cell_type": "code",
   "execution_count": 95,
   "id": "e6d57d83",
   "metadata": {},
   "outputs": [
    {
     "data": {
      "text/plain": [
       "0.5034880194115863"
      ]
     },
     "execution_count": 95,
     "metadata": {},
     "output_type": "execute_result"
    }
   ],
   "source": [
    "from sklearn.neighbors import KNeighborsClassifier\n",
    "\n",
    "knn_clf = KNeighborsClassifier(n_neighbors=3)\n",
    "knn_clf.fit(X_train, y_train)\n",
    "knn_clf.score(X_test, y_test)"
   ]
  },
  {
   "cell_type": "markdown",
   "id": "49d158ae",
   "metadata": {},
   "source": [
    "We can see that the dataset isn't really structured to help classification."
   ]
  }
 ],
 "metadata": {
  "kernelspec": {
   "display_name": "venv",
   "language": "python",
   "name": "venv"
  },
  "language_info": {
   "codemirror_mode": {
    "name": "ipython",
    "version": 3
   },
   "file_extension": ".py",
   "mimetype": "text/x-python",
   "name": "python",
   "nbconvert_exporter": "python",
   "pygments_lexer": "ipython3",
   "version": "3.9.7"
  }
 },
 "nbformat": 4,
 "nbformat_minor": 5
}
